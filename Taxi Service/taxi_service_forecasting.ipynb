{
 "cells": [
  {
   "cell_type": "markdown",
   "metadata": {},
   "source": [
    "#  Прогноз количества заказов такси"
   ]
  },
  {
   "cell_type": "markdown",
   "metadata": {},
   "source": [
    "## 1. Подготовка данных"
   ]
  },
  {
   "cell_type": "markdown",
   "metadata": {},
   "source": [
    "### 1.1 Загрузка библиотек"
   ]
  },
  {
   "cell_type": "code",
   "execution_count": 1,
   "metadata": {},
   "outputs": [],
   "source": [
    "#импорты библиотек\n",
    "import pandas as pd\n",
    "import numpy as np\n",
    "import seaborn as sns\n",
    "import matplotlib.pyplot as plt\n",
    "import warnings\n",
    "\n",
    "from sklearn.model_selection import train_test_split, TimeSeriesSplit, GridSearchCV\n",
    "from sklearn.metrics import mean_squared_error\n",
    "from sklearn.linear_model import LinearRegression, Ridge, Lasso\n",
    "from sklearn.ensemble import RandomForestRegressor\n",
    "\n",
    "import xgboost as xgb\n",
    "from catboost import CatBoostRegressor\n",
    "from prophet import Prophet\n",
    "\n",
    "from statsmodels.tsa.seasonal import seasonal_decompose\n",
    "from statsmodels.tsa.stattools import adfuller\n",
    "from statsmodels.tsa.statespace.sarimax import SARIMAX\n",
    "from statsmodels.graphics.tsaplots import plot_acf,plot_pacf\n",
    "import statsmodels.api as sm\n",
    "import scipy.stats as stats\n",
    "\n",
    "warnings.filterwarnings(\"ignore\")"
   ]
  },
  {
   "cell_type": "markdown",
   "metadata": {},
   "source": [
    "### 1.2 Загрузка данных"
   ]
  },
  {
   "cell_type": "code",
   "execution_count": 2,
   "metadata": {
    "scrolled": true
   },
   "outputs": [
    {
     "data": {
      "text/html": [
       "<div>\n",
       "<style scoped>\n",
       "    .dataframe tbody tr th:only-of-type {\n",
       "        vertical-align: middle;\n",
       "    }\n",
       "\n",
       "    .dataframe tbody tr th {\n",
       "        vertical-align: top;\n",
       "    }\n",
       "\n",
       "    .dataframe thead th {\n",
       "        text-align: right;\n",
       "    }\n",
       "</style>\n",
       "<table border=\"1\" class=\"dataframe\">\n",
       "  <thead>\n",
       "    <tr style=\"text-align: right;\">\n",
       "      <th></th>\n",
       "      <th>num_orders</th>\n",
       "    </tr>\n",
       "    <tr>\n",
       "      <th>datetime</th>\n",
       "      <th></th>\n",
       "    </tr>\n",
       "  </thead>\n",
       "  <tbody>\n",
       "    <tr>\n",
       "      <th>2018-03-01 00:00:00</th>\n",
       "      <td>9</td>\n",
       "    </tr>\n",
       "    <tr>\n",
       "      <th>2018-03-01 00:10:00</th>\n",
       "      <td>14</td>\n",
       "    </tr>\n",
       "    <tr>\n",
       "      <th>2018-03-01 00:20:00</th>\n",
       "      <td>28</td>\n",
       "    </tr>\n",
       "    <tr>\n",
       "      <th>2018-03-01 00:30:00</th>\n",
       "      <td>20</td>\n",
       "    </tr>\n",
       "    <tr>\n",
       "      <th>2018-03-01 00:40:00</th>\n",
       "      <td>32</td>\n",
       "    </tr>\n",
       "  </tbody>\n",
       "</table>\n",
       "</div>"
      ],
      "text/plain": [
       "                     num_orders\n",
       "datetime                       \n",
       "2018-03-01 00:00:00           9\n",
       "2018-03-01 00:10:00          14\n",
       "2018-03-01 00:20:00          28\n",
       "2018-03-01 00:30:00          20\n",
       "2018-03-01 00:40:00          32"
      ]
     },
     "execution_count": 2,
     "metadata": {},
     "output_type": "execute_result"
    }
   ],
   "source": [
    "#Загрузка данных в переменную df\n",
    "try:\n",
    "    df = pd.read_csv('/datasets/taxi.csv', index_col=0, parse_dates=[0])\n",
    "except:\n",
    "    df = pd.read_csv('C:/Users/Mi/Desktop/taxi.csv', index_col=0, parse_dates=[0])\n",
    "df.head()"
   ]
  },
  {
   "cell_type": "code",
   "execution_count": 3,
   "metadata": {
    "scrolled": true
   },
   "outputs": [
    {
     "data": {
      "text/plain": [
       "True"
      ]
     },
     "execution_count": 3,
     "metadata": {},
     "output_type": "execute_result"
    }
   ],
   "source": [
    "#проверим, все ли даты идут по возрастанию\n",
    "df.index.is_monotonic"
   ]
  },
  {
   "cell_type": "markdown",
   "metadata": {},
   "source": [
    "Все даты идут по возрастанию, ресемплируем сумму заказов по одному часу для дальнейшего анализа и обучения моделей."
   ]
  },
  {
   "cell_type": "code",
   "execution_count": 4,
   "metadata": {
    "scrolled": false
   },
   "outputs": [],
   "source": [
    "#выполним ресемплирование по одному часу\n",
    "df = df.resample('1H').sum()"
   ]
  },
  {
   "cell_type": "markdown",
   "metadata": {},
   "source": [
    "## 2. Анализ"
   ]
  },
  {
   "cell_type": "code",
   "execution_count": 5,
   "metadata": {
    "scrolled": false
   },
   "outputs": [
    {
     "name": "stdout",
     "output_type": "stream",
     "text": [
      "<class 'pandas.core.frame.DataFrame'>\n",
      "DatetimeIndex: 4416 entries, 2018-03-01 00:00:00 to 2018-08-31 23:00:00\n",
      "Freq: H\n",
      "Data columns (total 1 columns):\n",
      " #   Column      Non-Null Count  Dtype\n",
      "---  ------      --------------  -----\n",
      " 0   num_orders  4416 non-null   int64\n",
      "dtypes: int64(1)\n",
      "memory usage: 69.0 KB\n"
     ]
    }
   ],
   "source": [
    "df.info()"
   ]
  },
  {
   "cell_type": "markdown",
   "metadata": {},
   "source": [
    "В датасете 4416 обьектов и всего один признак - количество заказов."
   ]
  },
  {
   "cell_type": "code",
   "execution_count": 6,
   "metadata": {
    "scrolled": true
   },
   "outputs": [
    {
     "data": {
      "text/html": [
       "<div>\n",
       "<style scoped>\n",
       "    .dataframe tbody tr th:only-of-type {\n",
       "        vertical-align: middle;\n",
       "    }\n",
       "\n",
       "    .dataframe tbody tr th {\n",
       "        vertical-align: top;\n",
       "    }\n",
       "\n",
       "    .dataframe thead th {\n",
       "        text-align: right;\n",
       "    }\n",
       "</style>\n",
       "<table border=\"1\" class=\"dataframe\">\n",
       "  <thead>\n",
       "    <tr style=\"text-align: right;\">\n",
       "      <th></th>\n",
       "      <th>num_orders</th>\n",
       "    </tr>\n",
       "  </thead>\n",
       "  <tbody>\n",
       "    <tr>\n",
       "      <th>count</th>\n",
       "      <td>4416.000000</td>\n",
       "    </tr>\n",
       "    <tr>\n",
       "      <th>mean</th>\n",
       "      <td>84.422781</td>\n",
       "    </tr>\n",
       "    <tr>\n",
       "      <th>std</th>\n",
       "      <td>45.023853</td>\n",
       "    </tr>\n",
       "    <tr>\n",
       "      <th>min</th>\n",
       "      <td>0.000000</td>\n",
       "    </tr>\n",
       "    <tr>\n",
       "      <th>25%</th>\n",
       "      <td>54.000000</td>\n",
       "    </tr>\n",
       "    <tr>\n",
       "      <th>50%</th>\n",
       "      <td>78.000000</td>\n",
       "    </tr>\n",
       "    <tr>\n",
       "      <th>75%</th>\n",
       "      <td>107.000000</td>\n",
       "    </tr>\n",
       "    <tr>\n",
       "      <th>max</th>\n",
       "      <td>462.000000</td>\n",
       "    </tr>\n",
       "  </tbody>\n",
       "</table>\n",
       "</div>"
      ],
      "text/plain": [
       "        num_orders\n",
       "count  4416.000000\n",
       "mean     84.422781\n",
       "std      45.023853\n",
       "min       0.000000\n",
       "25%      54.000000\n",
       "50%      78.000000\n",
       "75%     107.000000\n",
       "max     462.000000"
      ]
     },
     "execution_count": 6,
     "metadata": {},
     "output_type": "execute_result"
    }
   ],
   "source": [
    "df.describe()"
   ]
  },
  {
   "cell_type": "code",
   "execution_count": 7,
   "metadata": {
    "scrolled": false
   },
   "outputs": [
    {
     "data": {
      "image/png": "[encoded data removed]",
      "text/plain": [
       "<Figure size 1200x400 with 1 Axes>"
      ]
     },
     "metadata": {},
     "output_type": "display_data"
    }
   ],
   "source": [
    "#построим ящик с усами, чтобы оценить количество выбросов в данных\n",
    "plt.rcParams[\"figure.figsize\"] = (12, 4)\n",
    "ax = sns.boxplot(x=df[\"num_orders\"])\n",
    "ax.set_title('Boxplot количества заказов такси за час');"
   ]
  },
  {
   "cell_type": "code",
   "execution_count": 8,
   "metadata": {
    "scrolled": true
   },
   "outputs": [
    {
     "data": {
      "image/png": "[encoded data removed]",
      "text/plain": [
       "<Figure size 1200x400 with 1 Axes>"
      ]
     },
     "metadata": {},
     "output_type": "display_data"
    }
   ],
   "source": [
    "#также построим гистограмму респределений\n",
    "ax=sns.histplot(data=df, x=\"num_orders\")\n",
    "ax.set_title('Гистограмма распределения количества заказов за час');"
   ]
  },
  {
   "cell_type": "markdown",
   "metadata": {},
   "source": [
    "В датасете присутствуют экстремально высокие значения и значения равные нулю.\n",
    "Наличие нулевого значения количества заказов не актуально в данной работе, поэтому удалим данный выброс.\n",
    "\n",
    "Удаление высоких и низких значений - шумов, может ухудшить нахождение моделями сезонных составляющих, поэтому данные выбросы обрабатывать не будем."
   ]
  },
  {
   "cell_type": "code",
   "execution_count": 9,
   "metadata": {},
   "outputs": [],
   "source": [
    "df = df.query('num_orders > 0')"
   ]
  },
  {
   "cell_type": "code",
   "execution_count": 10,
   "metadata": {},
   "outputs": [
    {
     "name": "stdout",
     "output_type": "stream",
     "text": [
      "<class 'pandas.core.frame.DataFrame'>\n",
      "DatetimeIndex: 4415 entries, 2018-03-01 00:00:00 to 2018-08-31 23:00:00\n",
      "Data columns (total 1 columns):\n",
      " #   Column      Non-Null Count  Dtype\n",
      "---  ------      --------------  -----\n",
      " 0   num_orders  4415 non-null   int64\n",
      "dtypes: int64(1)\n",
      "memory usage: 69.0 KB\n"
     ]
    }
   ],
   "source": [
    "df.info()"
   ]
  },
  {
   "cell_type": "code",
   "execution_count": 11,
   "metadata": {
    "scrolled": false
   },
   "outputs": [
    {
     "data": {
      "image/png": "[encoded data removed]",
      "text/plain": [
       "<Figure size 1200x400 with 1 Axes>"
      ]
     },
     "metadata": {},
     "output_type": "display_data"
    }
   ],
   "source": [
    "#построим график заказов от времени\n",
    "df.plot(title = 'График зависимости количества заказов от даты');"
   ]
  },
  {
   "cell_type": "markdown",
   "metadata": {},
   "source": [
    "Все данные с марта по сентябрь 2018 года.\n",
    "Похоже, что есть тренд на увеличение количества заказов в сервисе в целом. Нужно посмотреть на сглаженные данные чтобы сказать наверняка."
   ]
  },
  {
   "cell_type": "code",
   "execution_count": 12,
   "metadata": {},
   "outputs": [
    {
     "data": {
      "image/png": "[encoded data removed]",
      "text/plain": [
       "<Figure size 1200x400 with 1 Axes>"
      ]
     },
     "metadata": {},
     "output_type": "display_data"
    }
   ],
   "source": [
    "#рассмотрим тренд в данных\n",
    "seasonal_decompose(df.resample('1D').sum()).trend.plot(title='Трендовая составляющая в данных');"
   ]
  },
  {
   "cell_type": "markdown",
   "metadata": {},
   "source": [
    "Прослеживается тренд на увеличение количества заказов в данном сервисе втечение всего периода.\n",
    "\n",
    "Так как данные всего за один неполный год проследить месячную сезонность по таким данным невозможно."
   ]
  },
  {
   "cell_type": "code",
   "execution_count": 13,
   "metadata": {
    "scrolled": true
   },
   "outputs": [
    {
     "data": {
      "image/png": "[encoded data removed]",
      "text/plain": [
       "<Figure size 1200x400 with 1 Axes>"
      ]
     },
     "metadata": {},
     "output_type": "display_data"
    }
   ],
   "source": [
    "#рассмотрим сезонность в данных за какой-нибудь месяц(к примеру март 2018 года)\n",
    "seasonal_decompose(df['2018-03-01':'2018-03-31'].resample('1D').sum()).seasonal\\\n",
    ".plot(title='Недельная сезонность в марте 2018 года');"
   ]
  },
  {
   "cell_type": "markdown",
   "metadata": {},
   "source": [
    "Очевидная недельная сезонная составляющая в данных. В рабочие дни люди чаще пользуются услугами такси, в выходные дни показатель минимальный."
   ]
  },
  {
   "cell_type": "code",
   "execution_count": 14,
   "metadata": {
    "scrolled": true
   },
   "outputs": [
    {
     "data": {
      "image/png": "[encoded data removed]",
      "text/plain": [
       "<Figure size 1200x400 with 1 Axes>"
      ]
     },
     "metadata": {},
     "output_type": "display_data"
    }
   ],
   "source": [
    "#рассмотрим сезонность в данных за 2 дня (1-3 марта 2018 года)\n",
    "seasonal_decompose(df['2018-03-01':'2018-03-3'].resample('1H').sum()).seasonal\\\n",
    ".plot(title='Дневная сезонность за 1-3 марта 2018 года');"
   ]
  },
  {
   "cell_type": "markdown",
   "metadata": {},
   "source": [
    "Также прослеживается дневная сезонность в данных - больше всего люди пользуются такси в районе полуночи. Меньше всего - поздней ночью и в полдень."
   ]
  },
  {
   "cell_type": "markdown",
   "metadata": {},
   "source": [
    "На основании анализа сезонностей в данных можем добавить признаки, которые помогут нам при обучении моделей."
   ]
  },
  {
   "cell_type": "markdown",
   "metadata": {},
   "source": [
    "## 3. Подготовка данных"
   ]
  },
  {
   "cell_type": "markdown",
   "metadata": {},
   "source": [
    "### 3.1 Создание новых признаков"
   ]
  },
  {
   "cell_type": "code",
   "execution_count": 15,
   "metadata": {},
   "outputs": [],
   "source": [
    "#создание календарных признаков\n",
    "df['day_of_week'] = df.index.dayofweek\n",
    "df['hour'] = df.index.hour"
   ]
  },
  {
   "cell_type": "markdown",
   "metadata": {},
   "source": [
    "Учитывая, что мы наблюдаем дневную и недельную сезонность, построим признаки на основании сдвига по часам (до суток) и скользящего среднего (1 дня)."
   ]
  },
  {
   "cell_type": "code",
   "execution_count": 16,
   "metadata": {},
   "outputs": [],
   "source": [
    "#функция создания новых признаков на основании сдвигов и скользящего среднего\n",
    "def new_features(df, sh, roll):\n",
    "    data = df.copy()\n",
    "    for i in range(sh):\n",
    "        data[f'lag_{i + 1}'] = data['num_orders'].shift(i + 1)\n",
    "        \n",
    "    data['rolling_mean_day'] = data['lag_1'].rolling(roll).mean()\n",
    "    data = data.dropna()\n",
    "    return data"
   ]
  },
  {
   "cell_type": "code",
   "execution_count": 17,
   "metadata": {},
   "outputs": [
    {
     "data": {
      "text/html": [
       "<div>\n",
       "<style scoped>\n",
       "    .dataframe tbody tr th:only-of-type {\n",
       "        vertical-align: middle;\n",
       "    }\n",
       "\n",
       "    .dataframe tbody tr th {\n",
       "        vertical-align: top;\n",
       "    }\n",
       "\n",
       "    .dataframe thead th {\n",
       "        text-align: right;\n",
       "    }\n",
       "</style>\n",
       "<table border=\"1\" class=\"dataframe\">\n",
       "  <thead>\n",
       "    <tr style=\"text-align: right;\">\n",
       "      <th></th>\n",
       "      <th>num_orders</th>\n",
       "      <th>day_of_week</th>\n",
       "      <th>hour</th>\n",
       "      <th>lag_1</th>\n",
       "      <th>lag_2</th>\n",
       "      <th>lag_3</th>\n",
       "      <th>lag_4</th>\n",
       "      <th>lag_5</th>\n",
       "      <th>lag_6</th>\n",
       "      <th>lag_7</th>\n",
       "      <th>...</th>\n",
       "      <th>lag_16</th>\n",
       "      <th>lag_17</th>\n",
       "      <th>lag_18</th>\n",
       "      <th>lag_19</th>\n",
       "      <th>lag_20</th>\n",
       "      <th>lag_21</th>\n",
       "      <th>lag_22</th>\n",
       "      <th>lag_23</th>\n",
       "      <th>lag_24</th>\n",
       "      <th>rolling_mean_day</th>\n",
       "    </tr>\n",
       "    <tr>\n",
       "      <th>datetime</th>\n",
       "      <th></th>\n",
       "      <th></th>\n",
       "      <th></th>\n",
       "      <th></th>\n",
       "      <th></th>\n",
       "      <th></th>\n",
       "      <th></th>\n",
       "      <th></th>\n",
       "      <th></th>\n",
       "      <th></th>\n",
       "      <th></th>\n",
       "      <th></th>\n",
       "      <th></th>\n",
       "      <th></th>\n",
       "      <th></th>\n",
       "      <th></th>\n",
       "      <th></th>\n",
       "      <th></th>\n",
       "      <th></th>\n",
       "      <th></th>\n",
       "      <th></th>\n",
       "    </tr>\n",
       "  </thead>\n",
       "  <tbody>\n",
       "    <tr>\n",
       "      <th>2018-03-02 00:00:00</th>\n",
       "      <td>90</td>\n",
       "      <td>4</td>\n",
       "      <td>0</td>\n",
       "      <td>58.0</td>\n",
       "      <td>113.0</td>\n",
       "      <td>66.0</td>\n",
       "      <td>61.0</td>\n",
       "      <td>45.0</td>\n",
       "      <td>73.0</td>\n",
       "      <td>44.0</td>\n",
       "      <td>...</td>\n",
       "      <td>34.0</td>\n",
       "      <td>15.0</td>\n",
       "      <td>12.0</td>\n",
       "      <td>6.0</td>\n",
       "      <td>43.0</td>\n",
       "      <td>66.0</td>\n",
       "      <td>71.0</td>\n",
       "      <td>85.0</td>\n",
       "      <td>124.0</td>\n",
       "      <td>56.833333</td>\n",
       "    </tr>\n",
       "    <tr>\n",
       "      <th>2018-03-02 01:00:00</th>\n",
       "      <td>120</td>\n",
       "      <td>4</td>\n",
       "      <td>1</td>\n",
       "      <td>90.0</td>\n",
       "      <td>58.0</td>\n",
       "      <td>113.0</td>\n",
       "      <td>66.0</td>\n",
       "      <td>61.0</td>\n",
       "      <td>45.0</td>\n",
       "      <td>73.0</td>\n",
       "      <td>...</td>\n",
       "      <td>69.0</td>\n",
       "      <td>34.0</td>\n",
       "      <td>15.0</td>\n",
       "      <td>12.0</td>\n",
       "      <td>6.0</td>\n",
       "      <td>43.0</td>\n",
       "      <td>66.0</td>\n",
       "      <td>71.0</td>\n",
       "      <td>85.0</td>\n",
       "      <td>55.416667</td>\n",
       "    </tr>\n",
       "    <tr>\n",
       "      <th>2018-03-02 02:00:00</th>\n",
       "      <td>75</td>\n",
       "      <td>4</td>\n",
       "      <td>2</td>\n",
       "      <td>120.0</td>\n",
       "      <td>90.0</td>\n",
       "      <td>58.0</td>\n",
       "      <td>113.0</td>\n",
       "      <td>66.0</td>\n",
       "      <td>61.0</td>\n",
       "      <td>45.0</td>\n",
       "      <td>...</td>\n",
       "      <td>64.0</td>\n",
       "      <td>69.0</td>\n",
       "      <td>34.0</td>\n",
       "      <td>15.0</td>\n",
       "      <td>12.0</td>\n",
       "      <td>6.0</td>\n",
       "      <td>43.0</td>\n",
       "      <td>66.0</td>\n",
       "      <td>71.0</td>\n",
       "      <td>56.875000</td>\n",
       "    </tr>\n",
       "    <tr>\n",
       "      <th>2018-03-02 03:00:00</th>\n",
       "      <td>64</td>\n",
       "      <td>4</td>\n",
       "      <td>3</td>\n",
       "      <td>75.0</td>\n",
       "      <td>120.0</td>\n",
       "      <td>90.0</td>\n",
       "      <td>58.0</td>\n",
       "      <td>113.0</td>\n",
       "      <td>66.0</td>\n",
       "      <td>61.0</td>\n",
       "      <td>...</td>\n",
       "      <td>96.0</td>\n",
       "      <td>64.0</td>\n",
       "      <td>69.0</td>\n",
       "      <td>34.0</td>\n",
       "      <td>15.0</td>\n",
       "      <td>12.0</td>\n",
       "      <td>6.0</td>\n",
       "      <td>43.0</td>\n",
       "      <td>66.0</td>\n",
       "      <td>57.041667</td>\n",
       "    </tr>\n",
       "    <tr>\n",
       "      <th>2018-03-02 04:00:00</th>\n",
       "      <td>20</td>\n",
       "      <td>4</td>\n",
       "      <td>4</td>\n",
       "      <td>64.0</td>\n",
       "      <td>75.0</td>\n",
       "      <td>120.0</td>\n",
       "      <td>90.0</td>\n",
       "      <td>58.0</td>\n",
       "      <td>113.0</td>\n",
       "      <td>66.0</td>\n",
       "      <td>...</td>\n",
       "      <td>30.0</td>\n",
       "      <td>96.0</td>\n",
       "      <td>64.0</td>\n",
       "      <td>69.0</td>\n",
       "      <td>34.0</td>\n",
       "      <td>15.0</td>\n",
       "      <td>12.0</td>\n",
       "      <td>6.0</td>\n",
       "      <td>43.0</td>\n",
       "      <td>56.958333</td>\n",
       "    </tr>\n",
       "  </tbody>\n",
       "</table>\n",
       "<p>5 rows × 28 columns</p>\n",
       "</div>"
      ],
      "text/plain": [
       "                     num_orders  day_of_week  hour  lag_1  lag_2  lag_3  \\\n",
       "datetime                                                                  \n",
       "2018-03-02 00:00:00          90            4     0   58.0  113.0   66.0   \n",
       "2018-03-02 01:00:00         120            4     1   90.0   58.0  113.0   \n",
       "2018-03-02 02:00:00          75            4     2  120.0   90.0   58.0   \n",
       "2018-03-02 03:00:00          64            4     3   75.0  120.0   90.0   \n",
       "2018-03-02 04:00:00          20            4     4   64.0   75.0  120.0   \n",
       "\n",
       "                     lag_4  lag_5  lag_6  lag_7  ...  lag_16  lag_17  lag_18  \\\n",
       "datetime                                         ...                           \n",
       "2018-03-02 00:00:00   61.0   45.0   73.0   44.0  ...    34.0    15.0    12.0   \n",
       "2018-03-02 01:00:00   66.0   61.0   45.0   73.0  ...    69.0    34.0    15.0   \n",
       "2018-03-02 02:00:00  113.0   66.0   61.0   45.0  ...    64.0    69.0    34.0   \n",
       "2018-03-02 03:00:00   58.0  113.0   66.0   61.0  ...    96.0    64.0    69.0   \n",
       "2018-03-02 04:00:00   90.0   58.0  113.0   66.0  ...    30.0    96.0    64.0   \n",
       "\n",
       "                     lag_19  lag_20  lag_21  lag_22  lag_23  lag_24  \\\n",
       "datetime                                                              \n",
       "2018-03-02 00:00:00     6.0    43.0    66.0    71.0    85.0   124.0   \n",
       "2018-03-02 01:00:00    12.0     6.0    43.0    66.0    71.0    85.0   \n",
       "2018-03-02 02:00:00    15.0    12.0     6.0    43.0    66.0    71.0   \n",
       "2018-03-02 03:00:00    34.0    15.0    12.0     6.0    43.0    66.0   \n",
       "2018-03-02 04:00:00    69.0    34.0    15.0    12.0     6.0    43.0   \n",
       "\n",
       "                     rolling_mean_day  \n",
       "datetime                               \n",
       "2018-03-02 00:00:00         56.833333  \n",
       "2018-03-02 01:00:00         55.416667  \n",
       "2018-03-02 02:00:00         56.875000  \n",
       "2018-03-02 03:00:00         57.041667  \n",
       "2018-03-02 04:00:00         56.958333  \n",
       "\n",
       "[5 rows x 28 columns]"
      ]
     },
     "execution_count": 17,
     "metadata": {},
     "output_type": "execute_result"
    }
   ],
   "source": [
    "df_new = new_features(df, 24, 24)\n",
    "df_new.head()"
   ]
  },
  {
   "cell_type": "code",
   "execution_count": 18,
   "metadata": {},
   "outputs": [],
   "source": [
    "#удалим впропуски, которые появились в процессе создания признаков\n",
    "df_new = df_new.dropna()"
   ]
  },
  {
   "cell_type": "code",
   "execution_count": 19,
   "metadata": {
    "scrolled": true
   },
   "outputs": [
    {
     "data": {
      "image/png": "[encoded data removed]",
      "text/plain": [
       "<Figure size 1500x1100 with 2 Axes>"
      ]
     },
     "metadata": {},
     "output_type": "display_data"
    }
   ],
   "source": [
    "#heatmap корреляций признаков\n",
    "plt.rcParams[\"figure.figsize\"] = (15, 11)\n",
    "sns.heatmap(df_new.corr());"
   ]
  },
  {
   "cell_type": "code",
   "execution_count": 20,
   "metadata": {
    "scrolled": false
   },
   "outputs": [
    {
     "data": {
      "text/plain": [
       "(4391, 28)"
      ]
     },
     "execution_count": 20,
     "metadata": {},
     "output_type": "execute_result"
    }
   ],
   "source": [
    "#конечная размерность данных\n",
    "df_new.shape"
   ]
  },
  {
   "cell_type": "markdown",
   "metadata": {},
   "source": [
    "### 3.2 Разделениe выборок на обучающую и тестовую"
   ]
  },
  {
   "cell_type": "code",
   "execution_count": 21,
   "metadata": {},
   "outputs": [],
   "source": [
    "#выделим признаки и таргет\n",
    "X = df_new.drop('num_orders', axis=1)\n",
    "y = df_new.num_orders"
   ]
  },
  {
   "cell_type": "code",
   "execution_count": 22,
   "metadata": {},
   "outputs": [],
   "source": [
    "#Разделим выборки на обучающую и тестовую в соотношении 9:1\n",
    "X_train, X_test, y_train, y_test = train_test_split(X, y, test_size=0.1, shuffle=False)"
   ]
  },
  {
   "cell_type": "markdown",
   "metadata": {},
   "source": [
    "## 4. Обучение моделей"
   ]
  },
  {
   "cell_type": "code",
   "execution_count": 23,
   "metadata": {},
   "outputs": [],
   "source": [
    "#Метрика RMSE\n",
    "RMSE = lambda x, y: mean_squared_error(x, y) ** 0.5"
   ]
  },
  {
   "cell_type": "markdown",
   "metadata": {},
   "source": [
    "### 4.1 Базовая модель"
   ]
  },
  {
   "cell_type": "code",
   "execution_count": 24,
   "metadata": {
    "scrolled": false
   },
   "outputs": [
    {
     "name": "stdout",
     "output_type": "stream",
     "text": [
      "RMSE базовой модели = 84.6733559922292\n"
     ]
    }
   ],
   "source": [
    "#Построим базовую модель для проверки наших моделей на адекватность\n",
    "\n",
    "dummy_model = pd.Series(y_train.mean(), index=y_test.index)\n",
    "print('RMSE базовой модели =', RMSE(y_test, dummy_model))"
   ]
  },
  {
   "cell_type": "markdown",
   "metadata": {},
   "source": [
    "### 4.2 Линейные модели"
   ]
  },
  {
   "cell_type": "code",
   "execution_count": 25,
   "metadata": {},
   "outputs": [
    {
     "name": "stdout",
     "output_type": "stream",
     "text": [
      "RMSE кросс-валидации для линейной регрессии 27.823825653087955\n"
     ]
    }
   ],
   "source": [
    "#Модель линейной регрессии\n",
    "tscv = TimeSeriesSplit(n_splits=3).split(X_train)\n",
    "lin = LinearRegression(n_jobs=-1)\n",
    "params = {}\n",
    "lin_Grid = GridSearchCV(estimator=lin, cv=tscv, param_grid=params, scoring='neg_root_mean_squared_error')\n",
    "lin_Grid.fit(X_train, y_train)\n",
    "\n",
    "print('RMSE кросс-валидации для линейной регрессии', -lin_Grid.best_score_)"
   ]
  },
  {
   "cell_type": "code",
   "execution_count": 26,
   "metadata": {},
   "outputs": [
    {
     "name": "stdout",
     "output_type": "stream",
     "text": [
      "RMSE кросс-валидации для Ridge регрессии 27.82297117679313\n",
      "Лучшие параметры для Ridge регрессии {'alpha': 10}\n"
     ]
    }
   ],
   "source": [
    "#Ridge\n",
    "tscv = TimeSeriesSplit(n_splits=3).split(X_train)\n",
    "ridge = Ridge(random_state=777)\n",
    "params = {'alpha': [0.01, 0.1, 0.5, 1.0, 3, 5, 10]}\n",
    "ridge_Grid = GridSearchCV(estimator=ridge, cv=tscv, param_grid=params, scoring='neg_root_mean_squared_error')\n",
    "ridge_Grid.fit(X_train, y_train)\n",
    "print('RMSE кросс-валидации для Ridge регрессии', -ridge_Grid.best_score_)\n",
    "print('Лучшие параметры для Ridge регрессии', ridge_Grid.best_params_)"
   ]
  },
  {
   "cell_type": "code",
   "execution_count": 27,
   "metadata": {},
   "outputs": [
    {
     "name": "stdout",
     "output_type": "stream",
     "text": [
      "RMSE кросс-валидации для Lasso регрессии 27.72896054821258\n",
      "Лучшие параметры для Lasso регрессии {'alpha': 5}\n"
     ]
    }
   ],
   "source": [
    "#Lasso\n",
    "tscv = TimeSeriesSplit(n_splits=3).split(X_train)\n",
    "lasso = Lasso(random_state=777)\n",
    "params = {'alpha': [0.01, 0.1, 0.5, 1.0, 3, 5, 10]}\n",
    "lasso_Grid = GridSearchCV(estimator=lasso, cv=tscv, param_grid=params, scoring='neg_root_mean_squared_error')\n",
    "lasso_Grid.fit(X_train, y_train)\n",
    "print('RMSE кросс-валидации для Lasso регрессии', -lasso_Grid.best_score_)\n",
    "print('Лучшие параметры для Lasso регрессии', lasso_Grid.best_params_)"
   ]
  },
  {
   "cell_type": "markdown",
   "metadata": {},
   "source": [
    "Из линейных моделей лучше всего себя показала модель с Lasso ругуляризацией(alpha=5). \n",
    "Значение RMSE линейных моделей около 28"
   ]
  },
  {
   "cell_type": "markdown",
   "metadata": {},
   "source": [
    "### 4.3 RandomForest"
   ]
  },
  {
   "cell_type": "code",
   "execution_count": 28,
   "metadata": {},
   "outputs": [
    {
     "name": "stdout",
     "output_type": "stream",
     "text": [
      "CPU times: total: 2min 1s\n",
      "Wall time: 4min 58s\n"
     ]
    },
    {
     "data": {
      "text/html": [
       "<style>#sk-container-id-1 {color: black;background-color: white;}#sk-container-id-1 pre{padding: 0;}#sk-container-id-1 div.sk-toggleable {background-color: white;}#sk-container-id-1 label.sk-toggleable__label {cursor: pointer;display: block;width: 100%;margin-bottom: 0;padding: 0.3em;box-sizing: border-box;text-align: center;}#sk-container-id-1 label.sk-toggleable__label-arrow:before {content: \"▸\";float: left;margin-right: 0.25em;color: #696969;}#sk-container-id-1 label.sk-toggleable__label-arrow:hover:before {color: black;}#sk-container-id-1 div.sk-estimator:hover label.sk-toggleable__label-arrow:before {color: black;}#sk-container-id-1 div.sk-toggleable__content {max-height: 0;max-width: 0;overflow: hidden;text-align: left;background-color: #f0f8ff;}#sk-container-id-1 div.sk-toggleable__content pre {margin: 0.2em;color: black;border-radius: 0.25em;background-color: #f0f8ff;}#sk-container-id-1 input.sk-toggleable__control:checked~div.sk-toggleable__content {max-height: 200px;max-width: 100%;overflow: auto;}#sk-container-id-1 input.sk-toggleable__control:checked~label.sk-toggleable__label-arrow:before {content: \"▾\";}#sk-container-id-1 div.sk-estimator input.sk-toggleable__control:checked~label.sk-toggleable__label {background-color: #d4ebff;}#sk-container-id-1 div.sk-label input.sk-toggleable__control:checked~label.sk-toggleable__label {background-color: #d4ebff;}#sk-container-id-1 input.sk-hidden--visually {border: 0;clip: rect(1px 1px 1px 1px);clip: rect(1px, 1px, 1px, 1px);height: 1px;margin: -1px;overflow: hidden;padding: 0;position: absolute;width: 1px;}#sk-container-id-1 div.sk-estimator {font-family: monospace;background-color: #f0f8ff;border: 1px dotted black;border-radius: 0.25em;box-sizing: border-box;margin-bottom: 0.5em;}#sk-container-id-1 div.sk-estimator:hover {background-color: #d4ebff;}#sk-container-id-1 div.sk-parallel-item::after {content: \"\";width: 100%;border-bottom: 1px solid gray;flex-grow: 1;}#sk-container-id-1 div.sk-label:hover label.sk-toggleable__label {background-color: #d4ebff;}#sk-container-id-1 div.sk-serial::before {content: \"\";position: absolute;border-left: 1px solid gray;box-sizing: border-box;top: 0;bottom: 0;left: 50%;z-index: 0;}#sk-container-id-1 div.sk-serial {display: flex;flex-direction: column;align-items: center;background-color: white;padding-right: 0.2em;padding-left: 0.2em;position: relative;}#sk-container-id-1 div.sk-item {position: relative;z-index: 1;}#sk-container-id-1 div.sk-parallel {display: flex;align-items: stretch;justify-content: center;background-color: white;position: relative;}#sk-container-id-1 div.sk-item::before, #sk-container-id-1 div.sk-parallel-item::before {content: \"\";position: absolute;border-left: 1px solid gray;box-sizing: border-box;top: 0;bottom: 0;left: 50%;z-index: -1;}#sk-container-id-1 div.sk-parallel-item {display: flex;flex-direction: column;z-index: 1;position: relative;background-color: white;}#sk-container-id-1 div.sk-parallel-item:first-child::after {align-self: flex-end;width: 50%;}#sk-container-id-1 div.sk-parallel-item:last-child::after {align-self: flex-start;width: 50%;}#sk-container-id-1 div.sk-parallel-item:only-child::after {width: 0;}#sk-container-id-1 div.sk-dashed-wrapped {border: 1px dashed gray;margin: 0 0.4em 0.5em 0.4em;box-sizing: border-box;padding-bottom: 0.4em;background-color: white;}#sk-container-id-1 div.sk-label label {font-family: monospace;font-weight: bold;display: inline-block;line-height: 1.2em;}#sk-container-id-1 div.sk-label-container {text-align: center;}#sk-container-id-1 div.sk-container {/* jupyter's `normalize.less` sets `[hidden] { display: none; }` but bootstrap.min.css set `[hidden] { display: none !important; }` so we also need the `!important` here to be able to override the default hidden behavior on the sphinx rendered scikit-learn.org. See: https://github.com/scikit-learn/scikit-learn/issues/21755 */display: inline-block !important;position: relative;}#sk-container-id-1 div.sk-text-repr-fallback {display: none;}</style><div id=\"sk-container-id-1\" class=\"sk-top-container\"><div class=\"sk-text-repr-fallback\"><pre>GridSearchCV(cv=&lt;generator object TimeSeriesSplit.split at 0x00000210431DEDC0&gt;,\n",
       "             estimator=RandomForestRegressor(n_jobs=-1, random_state=777),\n",
       "             param_grid={&#x27;max_depth&#x27;: [4, 8, 12, 16, 20, 30],\n",
       "                         &#x27;min_samples_leaf&#x27;: [1, 4, 8],\n",
       "                         &#x27;n_estimators&#x27;: [50, 100, 150, 200, 400, 600]},\n",
       "             scoring=&#x27;neg_root_mean_squared_error&#x27;)</pre><b>In a Jupyter environment, please rerun this cell to show the HTML representation or trust the notebook. <br />On GitHub, the HTML representation is unable to render, please try loading this page with nbviewer.org.</b></div><div class=\"sk-container\" hidden><div class=\"sk-item sk-dashed-wrapped\"><div class=\"sk-label-container\"><div class=\"sk-label sk-toggleable\"><input class=\"sk-toggleable__control sk-hidden--visually\" id=\"sk-estimator-id-1\" type=\"checkbox\" ><label for=\"sk-estimator-id-1\" class=\"sk-toggleable__label sk-toggleable__label-arrow\">GridSearchCV</label><div class=\"sk-toggleable__content\"><pre>GridSearchCV(cv=&lt;generator object TimeSeriesSplit.split at 0x00000210431DEDC0&gt;,\n",
       "             estimator=RandomForestRegressor(n_jobs=-1, random_state=777),\n",
       "             param_grid={&#x27;max_depth&#x27;: [4, 8, 12, 16, 20, 30],\n",
       "                         &#x27;min_samples_leaf&#x27;: [1, 4, 8],\n",
       "                         &#x27;n_estimators&#x27;: [50, 100, 150, 200, 400, 600]},\n",
       "             scoring=&#x27;neg_root_mean_squared_error&#x27;)</pre></div></div></div><div class=\"sk-parallel\"><div class=\"sk-parallel-item\"><div class=\"sk-item\"><div class=\"sk-label-container\"><div class=\"sk-label sk-toggleable\"><input class=\"sk-toggleable__control sk-hidden--visually\" id=\"sk-estimator-id-2\" type=\"checkbox\" ><label for=\"sk-estimator-id-2\" class=\"sk-toggleable__label sk-toggleable__label-arrow\">estimator: RandomForestRegressor</label><div class=\"sk-toggleable__content\"><pre>RandomForestRegressor(n_jobs=-1, random_state=777)</pre></div></div></div><div class=\"sk-serial\"><div class=\"sk-item\"><div class=\"sk-estimator sk-toggleable\"><input class=\"sk-toggleable__control sk-hidden--visually\" id=\"sk-estimator-id-3\" type=\"checkbox\" ><label for=\"sk-estimator-id-3\" class=\"sk-toggleable__label sk-toggleable__label-arrow\">RandomForestRegressor</label><div class=\"sk-toggleable__content\"><pre>RandomForestRegressor(n_jobs=-1, random_state=777)</pre></div></div></div></div></div></div></div></div></div></div>"
      ],
      "text/plain": [
       "GridSearchCV(cv=<generator object TimeSeriesSplit.split at 0x00000210431DEDC0>,\n",
       "             estimator=RandomForestRegressor(n_jobs=-1, random_state=777),\n",
       "             param_grid={'max_depth': [4, 8, 12, 16, 20, 30],\n",
       "                         'min_samples_leaf': [1, 4, 8],\n",
       "                         'n_estimators': [50, 100, 150, 200, 400, 600]},\n",
       "             scoring='neg_root_mean_squared_error')"
      ]
     },
     "execution_count": 28,
     "metadata": {},
     "output_type": "execute_result"
    }
   ],
   "source": [
    "%%time\n",
    "#Модель случайного леса\n",
    "tscv = TimeSeriesSplit(n_splits=3).split(X_train)\n",
    "rf = RandomForestRegressor(n_jobs=-1, random_state=777)\n",
    "params = {'max_depth': [4, 8, 12, 16, 20, 30],\n",
    "         'n_estimators': [50, 100, 150, 200, 400, 600],\n",
    "         'min_samples_leaf': [1, 4, 8]}\n",
    "rf_Grid = GridSearchCV(estimator=rf, cv=tscv, param_grid=params, scoring='neg_root_mean_squared_error')\n",
    "rf_Grid.fit(X_train, y_train)"
   ]
  },
  {
   "cell_type": "code",
   "execution_count": 29,
   "metadata": {},
   "outputs": [
    {
     "name": "stdout",
     "output_type": "stream",
     "text": [
      "RMSE кросс-валидации для линейной регрессии 26.735084264838957\n",
      "Лучшие параметры случайного леса {'max_depth': 30, 'min_samples_leaf': 1, 'n_estimators': 400}\n",
      "CPU times: total: 0 ns\n",
      "Wall time: 1 ms\n"
     ]
    }
   ],
   "source": [
    "%%time\n",
    "print('RMSE кросс-валидации для линейной регрессии', -rf_Grid.best_score_)\n",
    "print('Лучшие параметры случайного леса', rf_Grid.best_params_)"
   ]
  },
  {
   "cell_type": "markdown",
   "metadata": {},
   "source": [
    "### 4.4 Градиентные бустинги"
   ]
  },
  {
   "cell_type": "markdown",
   "metadata": {},
   "source": [
    "#### 4.4.1 xgboost"
   ]
  },
  {
   "cell_type": "code",
   "execution_count": 30,
   "metadata": {
    "scrolled": true
   },
   "outputs": [
    {
     "name": "stdout",
     "output_type": "stream",
     "text": [
      "CPU times: total: 53min\n",
      "Wall time: 3min 34s\n"
     ]
    },
    {
     "data": {
      "text/html": [
       "<style>#sk-container-id-2 {color: black;background-color: white;}#sk-container-id-2 pre{padding: 0;}#sk-container-id-2 div.sk-toggleable {background-color: white;}#sk-container-id-2 label.sk-toggleable__label {cursor: pointer;display: block;width: 100%;margin-bottom: 0;padding: 0.3em;box-sizing: border-box;text-align: center;}#sk-container-id-2 label.sk-toggleable__label-arrow:before {content: \"▸\";float: left;margin-right: 0.25em;color: #696969;}#sk-container-id-2 label.sk-toggleable__label-arrow:hover:before {color: black;}#sk-container-id-2 div.sk-estimator:hover label.sk-toggleable__label-arrow:before {color: black;}#sk-container-id-2 div.sk-toggleable__content {max-height: 0;max-width: 0;overflow: hidden;text-align: left;background-color: #f0f8ff;}#sk-container-id-2 div.sk-toggleable__content pre {margin: 0.2em;color: black;border-radius: 0.25em;background-color: #f0f8ff;}#sk-container-id-2 input.sk-toggleable__control:checked~div.sk-toggleable__content {max-height: 200px;max-width: 100%;overflow: auto;}#sk-container-id-2 input.sk-toggleable__control:checked~label.sk-toggleable__label-arrow:before {content: \"▾\";}#sk-container-id-2 div.sk-estimator input.sk-toggleable__control:checked~label.sk-toggleable__label {background-color: #d4ebff;}#sk-container-id-2 div.sk-label input.sk-toggleable__control:checked~label.sk-toggleable__label {background-color: #d4ebff;}#sk-container-id-2 input.sk-hidden--visually {border: 0;clip: rect(1px 1px 1px 1px);clip: rect(1px, 1px, 1px, 1px);height: 1px;margin: -1px;overflow: hidden;padding: 0;position: absolute;width: 1px;}#sk-container-id-2 div.sk-estimator {font-family: monospace;background-color: #f0f8ff;border: 1px dotted black;border-radius: 0.25em;box-sizing: border-box;margin-bottom: 0.5em;}#sk-container-id-2 div.sk-estimator:hover {background-color: #d4ebff;}#sk-container-id-2 div.sk-parallel-item::after {content: \"\";width: 100%;border-bottom: 1px solid gray;flex-grow: 1;}#sk-container-id-2 div.sk-label:hover label.sk-toggleable__label {background-color: #d4ebff;}#sk-container-id-2 div.sk-serial::before {content: \"\";position: absolute;border-left: 1px solid gray;box-sizing: border-box;top: 0;bottom: 0;left: 50%;z-index: 0;}#sk-container-id-2 div.sk-serial {display: flex;flex-direction: column;align-items: center;background-color: white;padding-right: 0.2em;padding-left: 0.2em;position: relative;}#sk-container-id-2 div.sk-item {position: relative;z-index: 1;}#sk-container-id-2 div.sk-parallel {display: flex;align-items: stretch;justify-content: center;background-color: white;position: relative;}#sk-container-id-2 div.sk-item::before, #sk-container-id-2 div.sk-parallel-item::before {content: \"\";position: absolute;border-left: 1px solid gray;box-sizing: border-box;top: 0;bottom: 0;left: 50%;z-index: -1;}#sk-container-id-2 div.sk-parallel-item {display: flex;flex-direction: column;z-index: 1;position: relative;background-color: white;}#sk-container-id-2 div.sk-parallel-item:first-child::after {align-self: flex-end;width: 50%;}#sk-container-id-2 div.sk-parallel-item:last-child::after {align-self: flex-start;width: 50%;}#sk-container-id-2 div.sk-parallel-item:only-child::after {width: 0;}#sk-container-id-2 div.sk-dashed-wrapped {border: 1px dashed gray;margin: 0 0.4em 0.5em 0.4em;box-sizing: border-box;padding-bottom: 0.4em;background-color: white;}#sk-container-id-2 div.sk-label label {font-family: monospace;font-weight: bold;display: inline-block;line-height: 1.2em;}#sk-container-id-2 div.sk-label-container {text-align: center;}#sk-container-id-2 div.sk-container {/* jupyter's `normalize.less` sets `[hidden] { display: none; }` but bootstrap.min.css set `[hidden] { display: none !important; }` so we also need the `!important` here to be able to override the default hidden behavior on the sphinx rendered scikit-learn.org. See: https://github.com/scikit-learn/scikit-learn/issues/21755 */display: inline-block !important;position: relative;}#sk-container-id-2 div.sk-text-repr-fallback {display: none;}</style><div id=\"sk-container-id-2\" class=\"sk-top-container\"><div class=\"sk-text-repr-fallback\"><pre>GridSearchCV(cv=&lt;generator object TimeSeriesSplit.split at 0x00000210434F44A0&gt;,\n",
       "             estimator=XGBRegressor(base_score=None, booster=None,\n",
       "                                    callbacks=None, colsample_bylevel=None,\n",
       "                                    colsample_bynode=None,\n",
       "                                    colsample_bytree=None,\n",
       "                                    early_stopping_rounds=None,\n",
       "                                    enable_categorical=False, eval_metric=None,\n",
       "                                    feature_types=None, gamma=None, gpu_id=None,\n",
       "                                    grow_policy=None, importance_ty...\n",
       "                                    max_depth=None, max_leaves=None,\n",
       "                                    min_child_weight=None, missing=nan,\n",
       "                                    monotone_constraints=None, n_estimators=100,\n",
       "                                    n_jobs=-1, num_parallel_tree=None,\n",
       "                                    predictor=None, random_state=777, ...),\n",
       "             param_grid={&#x27;alpha&#x27;: [0.1, 0.5, 1],\n",
       "                         &#x27;booster&#x27;: [&#x27;gbtree&#x27;, &#x27;gblinear&#x27;],\n",
       "                         &#x27;learning_rate&#x27;: [0.3, 0.1, 0.03],\n",
       "                         &#x27;max_depth&#x27;: [4, 5, 6],\n",
       "                         &#x27;n_estimators&#x27;: [100, 500, 1000]},\n",
       "             scoring=&#x27;neg_root_mean_squared_error&#x27;)</pre><b>In a Jupyter environment, please rerun this cell to show the HTML representation or trust the notebook. <br />On GitHub, the HTML representation is unable to render, please try loading this page with nbviewer.org.</b></div><div class=\"sk-container\" hidden><div class=\"sk-item sk-dashed-wrapped\"><div class=\"sk-label-container\"><div class=\"sk-label sk-toggleable\"><input class=\"sk-toggleable__control sk-hidden--visually\" id=\"sk-estimator-id-4\" type=\"checkbox\" ><label for=\"sk-estimator-id-4\" class=\"sk-toggleable__label sk-toggleable__label-arrow\">GridSearchCV</label><div class=\"sk-toggleable__content\"><pre>GridSearchCV(cv=&lt;generator object TimeSeriesSplit.split at 0x00000210434F44A0&gt;,\n",
       "             estimator=XGBRegressor(base_score=None, booster=None,\n",
       "                                    callbacks=None, colsample_bylevel=None,\n",
       "                                    colsample_bynode=None,\n",
       "                                    colsample_bytree=None,\n",
       "                                    early_stopping_rounds=None,\n",
       "                                    enable_categorical=False, eval_metric=None,\n",
       "                                    feature_types=None, gamma=None, gpu_id=None,\n",
       "                                    grow_policy=None, importance_ty...\n",
       "                                    max_depth=None, max_leaves=None,\n",
       "                                    min_child_weight=None, missing=nan,\n",
       "                                    monotone_constraints=None, n_estimators=100,\n",
       "                                    n_jobs=-1, num_parallel_tree=None,\n",
       "                                    predictor=None, random_state=777, ...),\n",
       "             param_grid={&#x27;alpha&#x27;: [0.1, 0.5, 1],\n",
       "                         &#x27;booster&#x27;: [&#x27;gbtree&#x27;, &#x27;gblinear&#x27;],\n",
       "                         &#x27;learning_rate&#x27;: [0.3, 0.1, 0.03],\n",
       "                         &#x27;max_depth&#x27;: [4, 5, 6],\n",
       "                         &#x27;n_estimators&#x27;: [100, 500, 1000]},\n",
       "             scoring=&#x27;neg_root_mean_squared_error&#x27;)</pre></div></div></div><div class=\"sk-parallel\"><div class=\"sk-parallel-item\"><div class=\"sk-item\"><div class=\"sk-label-container\"><div class=\"sk-label sk-toggleable\"><input class=\"sk-toggleable__control sk-hidden--visually\" id=\"sk-estimator-id-5\" type=\"checkbox\" ><label for=\"sk-estimator-id-5\" class=\"sk-toggleable__label sk-toggleable__label-arrow\">estimator: XGBRegressor</label><div class=\"sk-toggleable__content\"><pre>XGBRegressor(base_score=None, booster=None, callbacks=None,\n",
       "             colsample_bylevel=None, colsample_bynode=None,\n",
       "             colsample_bytree=None, early_stopping_rounds=None,\n",
       "             enable_categorical=False, eval_metric=None, feature_types=None,\n",
       "             gamma=None, gpu_id=None, grow_policy=None, importance_type=None,\n",
       "             interaction_constraints=None, learning_rate=None, max_bin=None,\n",
       "             max_cat_threshold=None, max_cat_to_onehot=None,\n",
       "             max_delta_step=None, max_depth=None, max_leaves=None,\n",
       "             min_child_weight=None, missing=nan, monotone_constraints=None,\n",
       "             n_estimators=100, n_jobs=-1, num_parallel_tree=None,\n",
       "             predictor=None, random_state=777, ...)</pre></div></div></div><div class=\"sk-serial\"><div class=\"sk-item\"><div class=\"sk-estimator sk-toggleable\"><input class=\"sk-toggleable__control sk-hidden--visually\" id=\"sk-estimator-id-6\" type=\"checkbox\" ><label for=\"sk-estimator-id-6\" class=\"sk-toggleable__label sk-toggleable__label-arrow\">XGBRegressor</label><div class=\"sk-toggleable__content\"><pre>XGBRegressor(base_score=None, booster=None, callbacks=None,\n",
       "             colsample_bylevel=None, colsample_bynode=None,\n",
       "             colsample_bytree=None, early_stopping_rounds=None,\n",
       "             enable_categorical=False, eval_metric=None, feature_types=None,\n",
       "             gamma=None, gpu_id=None, grow_policy=None, importance_type=None,\n",
       "             interaction_constraints=None, learning_rate=None, max_bin=None,\n",
       "             max_cat_threshold=None, max_cat_to_onehot=None,\n",
       "             max_delta_step=None, max_depth=None, max_leaves=None,\n",
       "             min_child_weight=None, missing=nan, monotone_constraints=None,\n",
       "             n_estimators=100, n_jobs=-1, num_parallel_tree=None,\n",
       "             predictor=None, random_state=777, ...)</pre></div></div></div></div></div></div></div></div></div></div>"
      ],
      "text/plain": [
       "GridSearchCV(cv=<generator object TimeSeriesSplit.split at 0x00000210434F44A0>,\n",
       "             estimator=XGBRegressor(base_score=None, booster=None,\n",
       "                                    callbacks=None, colsample_bylevel=None,\n",
       "                                    colsample_bynode=None,\n",
       "                                    colsample_bytree=None,\n",
       "                                    early_stopping_rounds=None,\n",
       "                                    enable_categorical=False, eval_metric=None,\n",
       "                                    feature_types=None, gamma=None, gpu_id=None,\n",
       "                                    grow_policy=None, importance_ty...\n",
       "                                    max_depth=None, max_leaves=None,\n",
       "                                    min_child_weight=None, missing=nan,\n",
       "                                    monotone_constraints=None, n_estimators=100,\n",
       "                                    n_jobs=-1, num_parallel_tree=None,\n",
       "                                    predictor=None, random_state=777, ...),\n",
       "             param_grid={'alpha': [0.1, 0.5, 1],\n",
       "                         'booster': ['gbtree', 'gblinear'],\n",
       "                         'learning_rate': [0.3, 0.1, 0.03],\n",
       "                         'max_depth': [4, 5, 6],\n",
       "                         'n_estimators': [100, 500, 1000]},\n",
       "             scoring='neg_root_mean_squared_error')"
      ]
     },
     "execution_count": 30,
     "metadata": {},
     "output_type": "execute_result"
    }
   ],
   "source": [
    "%%time\n",
    "#XGboost\n",
    "tscv = TimeSeriesSplit(n_splits=3).split(X_train)\n",
    "xg = xgb.XGBRegressor(n_jobs=-1, random_state=777, verbosity=0)\n",
    "params = {'max_depth': [4, 5, 6],\n",
    "         'n_estimators': [100, 500, 1000],\n",
    "         'learning_rate':[0.3, 0.1, 0.03],\n",
    "          'booster': ['gbtree', 'gblinear'],\n",
    "          'alpha': [0.1, 0.5, 1]\n",
    "         }\n",
    "xg_Grid = GridSearchCV(estimator=xg, cv=tscv, param_grid=params, scoring='neg_root_mean_squared_error')\n",
    "xg_Grid.fit(X_train, y_train)"
   ]
  },
  {
   "cell_type": "code",
   "execution_count": 31,
   "metadata": {
    "scrolled": false
   },
   "outputs": [
    {
     "name": "stdout",
     "output_type": "stream",
     "text": [
      "RMSE кросс-валидации для XGBoost 26.028032838860256\n",
      "Лучшие параметры для XGBoost {'alpha': 0.5, 'booster': 'gbtree', 'learning_rate': 0.03, 'max_depth': 4, 'n_estimators': 500}\n",
      "CPU times: total: 0 ns\n",
      "Wall time: 0 ns\n"
     ]
    }
   ],
   "source": [
    "%%time\n",
    "print('RMSE кросс-валидации для XGBoost', -xg_Grid.best_score_)\n",
    "print('Лучшие параметры для XGBoost', xg_Grid.best_params_)"
   ]
  },
  {
   "cell_type": "markdown",
   "metadata": {},
   "source": [
    "#### 4.4.2 catboost"
   ]
  },
  {
   "cell_type": "code",
   "execution_count": 32,
   "metadata": {},
   "outputs": [
    {
     "name": "stdout",
     "output_type": "stream",
     "text": [
      "CPU times: total: 11.8 s\n",
      "Wall time: 9min 25s\n"
     ]
    },
    {
     "data": {
      "text/html": [
       "<style>#sk-container-id-3 {color: black;background-color: white;}#sk-container-id-3 pre{padding: 0;}#sk-container-id-3 div.sk-toggleable {background-color: white;}#sk-container-id-3 label.sk-toggleable__label {cursor: pointer;display: block;width: 100%;margin-bottom: 0;padding: 0.3em;box-sizing: border-box;text-align: center;}#sk-container-id-3 label.sk-toggleable__label-arrow:before {content: \"▸\";float: left;margin-right: 0.25em;color: #696969;}#sk-container-id-3 label.sk-toggleable__label-arrow:hover:before {color: black;}#sk-container-id-3 div.sk-estimator:hover label.sk-toggleable__label-arrow:before {color: black;}#sk-container-id-3 div.sk-toggleable__content {max-height: 0;max-width: 0;overflow: hidden;text-align: left;background-color: #f0f8ff;}#sk-container-id-3 div.sk-toggleable__content pre {margin: 0.2em;color: black;border-radius: 0.25em;background-color: #f0f8ff;}#sk-container-id-3 input.sk-toggleable__control:checked~div.sk-toggleable__content {max-height: 200px;max-width: 100%;overflow: auto;}#sk-container-id-3 input.sk-toggleable__control:checked~label.sk-toggleable__label-arrow:before {content: \"▾\";}#sk-container-id-3 div.sk-estimator input.sk-toggleable__control:checked~label.sk-toggleable__label {background-color: #d4ebff;}#sk-container-id-3 div.sk-label input.sk-toggleable__control:checked~label.sk-toggleable__label {background-color: #d4ebff;}#sk-container-id-3 input.sk-hidden--visually {border: 0;clip: rect(1px 1px 1px 1px);clip: rect(1px, 1px, 1px, 1px);height: 1px;margin: -1px;overflow: hidden;padding: 0;position: absolute;width: 1px;}#sk-container-id-3 div.sk-estimator {font-family: monospace;background-color: #f0f8ff;border: 1px dotted black;border-radius: 0.25em;box-sizing: border-box;margin-bottom: 0.5em;}#sk-container-id-3 div.sk-estimator:hover {background-color: #d4ebff;}#sk-container-id-3 div.sk-parallel-item::after {content: \"\";width: 100%;border-bottom: 1px solid gray;flex-grow: 1;}#sk-container-id-3 div.sk-label:hover label.sk-toggleable__label {background-color: #d4ebff;}#sk-container-id-3 div.sk-serial::before {content: \"\";position: absolute;border-left: 1px solid gray;box-sizing: border-box;top: 0;bottom: 0;left: 50%;z-index: 0;}#sk-container-id-3 div.sk-serial {display: flex;flex-direction: column;align-items: center;background-color: white;padding-right: 0.2em;padding-left: 0.2em;position: relative;}#sk-container-id-3 div.sk-item {position: relative;z-index: 1;}#sk-container-id-3 div.sk-parallel {display: flex;align-items: stretch;justify-content: center;background-color: white;position: relative;}#sk-container-id-3 div.sk-item::before, #sk-container-id-3 div.sk-parallel-item::before {content: \"\";position: absolute;border-left: 1px solid gray;box-sizing: border-box;top: 0;bottom: 0;left: 50%;z-index: -1;}#sk-container-id-3 div.sk-parallel-item {display: flex;flex-direction: column;z-index: 1;position: relative;background-color: white;}#sk-container-id-3 div.sk-parallel-item:first-child::after {align-self: flex-end;width: 50%;}#sk-container-id-3 div.sk-parallel-item:last-child::after {align-self: flex-start;width: 50%;}#sk-container-id-3 div.sk-parallel-item:only-child::after {width: 0;}#sk-container-id-3 div.sk-dashed-wrapped {border: 1px dashed gray;margin: 0 0.4em 0.5em 0.4em;box-sizing: border-box;padding-bottom: 0.4em;background-color: white;}#sk-container-id-3 div.sk-label label {font-family: monospace;font-weight: bold;display: inline-block;line-height: 1.2em;}#sk-container-id-3 div.sk-label-container {text-align: center;}#sk-container-id-3 div.sk-container {/* jupyter's `normalize.less` sets `[hidden] { display: none; }` but bootstrap.min.css set `[hidden] { display: none !important; }` so we also need the `!important` here to be able to override the default hidden behavior on the sphinx rendered scikit-learn.org. See: https://github.com/scikit-learn/scikit-learn/issues/21755 */display: inline-block !important;position: relative;}#sk-container-id-3 div.sk-text-repr-fallback {display: none;}</style><div id=\"sk-container-id-3\" class=\"sk-top-container\"><div class=\"sk-text-repr-fallback\"><pre>GridSearchCV(cv=&lt;generator object TimeSeriesSplit.split at 0x0000021043BBF610&gt;,\n",
       "             estimator=&lt;catboost.core.CatBoostRegressor object at 0x00000210435DFAF0&gt;,\n",
       "             n_jobs=-1,\n",
       "             param_grid={&#x27;depth&#x27;: [4, 6, 8],\n",
       "                         &#x27;iterations&#x27;: [100, 500, 1000, 2000],\n",
       "                         &#x27;learning_rate&#x27;: [0.3, 0.1, 0.03],\n",
       "                         &#x27;min_child_samples&#x27;: [1, 4, 8]},\n",
       "             scoring=&#x27;neg_root_mean_squared_error&#x27;)</pre><b>In a Jupyter environment, please rerun this cell to show the HTML representation or trust the notebook. <br />On GitHub, the HTML representation is unable to render, please try loading this page with nbviewer.org.</b></div><div class=\"sk-container\" hidden><div class=\"sk-item sk-dashed-wrapped\"><div class=\"sk-label-container\"><div class=\"sk-label sk-toggleable\"><input class=\"sk-toggleable__control sk-hidden--visually\" id=\"sk-estimator-id-7\" type=\"checkbox\" ><label for=\"sk-estimator-id-7\" class=\"sk-toggleable__label sk-toggleable__label-arrow\">GridSearchCV</label><div class=\"sk-toggleable__content\"><pre>GridSearchCV(cv=&lt;generator object TimeSeriesSplit.split at 0x0000021043BBF610&gt;,\n",
       "             estimator=&lt;catboost.core.CatBoostRegressor object at 0x00000210435DFAF0&gt;,\n",
       "             n_jobs=-1,\n",
       "             param_grid={&#x27;depth&#x27;: [4, 6, 8],\n",
       "                         &#x27;iterations&#x27;: [100, 500, 1000, 2000],\n",
       "                         &#x27;learning_rate&#x27;: [0.3, 0.1, 0.03],\n",
       "                         &#x27;min_child_samples&#x27;: [1, 4, 8]},\n",
       "             scoring=&#x27;neg_root_mean_squared_error&#x27;)</pre></div></div></div><div class=\"sk-parallel\"><div class=\"sk-parallel-item\"><div class=\"sk-item\"><div class=\"sk-label-container\"><div class=\"sk-label sk-toggleable\"><input class=\"sk-toggleable__control sk-hidden--visually\" id=\"sk-estimator-id-8\" type=\"checkbox\" ><label for=\"sk-estimator-id-8\" class=\"sk-toggleable__label sk-toggleable__label-arrow\">estimator: CatBoostRegressor</label><div class=\"sk-toggleable__content\"><pre>&lt;catboost.core.CatBoostRegressor object at 0x00000210435DFAF0&gt;</pre></div></div></div><div class=\"sk-serial\"><div class=\"sk-item\"><div class=\"sk-estimator sk-toggleable\"><input class=\"sk-toggleable__control sk-hidden--visually\" id=\"sk-estimator-id-9\" type=\"checkbox\" ><label for=\"sk-estimator-id-9\" class=\"sk-toggleable__label sk-toggleable__label-arrow\">CatBoostRegressor</label><div class=\"sk-toggleable__content\"><pre>&lt;catboost.core.CatBoostRegressor object at 0x00000210435DFAF0&gt;</pre></div></div></div></div></div></div></div></div></div></div>"
      ],
      "text/plain": [
       "GridSearchCV(cv=<generator object TimeSeriesSplit.split at 0x0000021043BBF610>,\n",
       "             estimator=<catboost.core.CatBoostRegressor object at 0x00000210435DFAF0>,\n",
       "             n_jobs=-1,\n",
       "             param_grid={'depth': [4, 6, 8],\n",
       "                         'iterations': [100, 500, 1000, 2000],\n",
       "                         'learning_rate': [0.3, 0.1, 0.03],\n",
       "                         'min_child_samples': [1, 4, 8]},\n",
       "             scoring='neg_root_mean_squared_error')"
      ]
     },
     "execution_count": 32,
     "metadata": {},
     "output_type": "execute_result"
    }
   ],
   "source": [
    "%%time\n",
    "#XGboost\n",
    "tscv = TimeSeriesSplit(n_splits=3).split(X_train)\n",
    "cat = CatBoostRegressor(random_state=777, verbose=0)\n",
    "params = {'depth': [4, 6, 8],\n",
    "          'iterations': [100, 500, 1000, 2000],\n",
    "          'learning_rate':[0.3, 0.1, 0.03],\n",
    "          'min_child_samples': [1, 4, 8]\n",
    "         }\n",
    "cat_Grid = GridSearchCV(estimator=cat, cv=tscv, param_grid=params, scoring='neg_root_mean_squared_error', n_jobs=-1)\n",
    "cat_Grid.fit(X_train, y_train)"
   ]
  },
  {
   "cell_type": "code",
   "execution_count": 33,
   "metadata": {
    "scrolled": true
   },
   "outputs": [
    {
     "name": "stdout",
     "output_type": "stream",
     "text": [
      "RMSE кросс-валидации для catboost 25.716169030506208\n",
      "Лучшие параметры для catboost {'depth': 6, 'iterations': 2000, 'learning_rate': 0.03, 'min_child_samples': 1}\n",
      "CPU times: total: 0 ns\n",
      "Wall time: 0 ns\n"
     ]
    }
   ],
   "source": [
    "%%time\n",
    "print('RMSE кросс-валидации для catboost', -cat_Grid.best_score_)\n",
    "print('Лучшие параметры для catboost', cat_Grid.best_params_)"
   ]
  },
  {
   "cell_type": "markdown",
   "metadata": {},
   "source": [
    "### 4.5 Prophet"
   ]
  },
  {
   "cell_type": "code",
   "execution_count": 34,
   "metadata": {},
   "outputs": [
    {
     "data": {
      "text/html": [
       "<div>\n",
       "<style scoped>\n",
       "    .dataframe tbody tr th:only-of-type {\n",
       "        vertical-align: middle;\n",
       "    }\n",
       "\n",
       "    .dataframe tbody tr th {\n",
       "        vertical-align: top;\n",
       "    }\n",
       "\n",
       "    .dataframe thead th {\n",
       "        text-align: right;\n",
       "    }\n",
       "</style>\n",
       "<table border=\"1\" class=\"dataframe\">\n",
       "  <thead>\n",
       "    <tr style=\"text-align: right;\">\n",
       "      <th></th>\n",
       "      <th>ds</th>\n",
       "      <th>y</th>\n",
       "    </tr>\n",
       "  </thead>\n",
       "  <tbody>\n",
       "    <tr>\n",
       "      <th>0</th>\n",
       "      <td>2018-03-01 00:00:00</td>\n",
       "      <td>124</td>\n",
       "    </tr>\n",
       "    <tr>\n",
       "      <th>1</th>\n",
       "      <td>2018-03-01 01:00:00</td>\n",
       "      <td>85</td>\n",
       "    </tr>\n",
       "    <tr>\n",
       "      <th>2</th>\n",
       "      <td>2018-03-01 02:00:00</td>\n",
       "      <td>71</td>\n",
       "    </tr>\n",
       "    <tr>\n",
       "      <th>3</th>\n",
       "      <td>2018-03-01 03:00:00</td>\n",
       "      <td>66</td>\n",
       "    </tr>\n",
       "    <tr>\n",
       "      <th>4</th>\n",
       "      <td>2018-03-01 04:00:00</td>\n",
       "      <td>43</td>\n",
       "    </tr>\n",
       "  </tbody>\n",
       "</table>\n",
       "</div>"
      ],
      "text/plain": [
       "                   ds    y\n",
       "0 2018-03-01 00:00:00  124\n",
       "1 2018-03-01 01:00:00   85\n",
       "2 2018-03-01 02:00:00   71\n",
       "3 2018-03-01 03:00:00   66\n",
       "4 2018-03-01 04:00:00   43"
      ]
     },
     "execution_count": 34,
     "metadata": {},
     "output_type": "execute_result"
    }
   ],
   "source": [
    "#создадим новый датасет DF_propthet(только с временем и количеством заказов)\n",
    "DF_propthet = df.copy().reset_index()[['datetime', 'num_orders']]\n",
    "DF_propthet.columns = ['ds', 'y']\n",
    "DF_propthet.head()"
   ]
  },
  {
   "cell_type": "code",
   "execution_count": 35,
   "metadata": {
    "scrolled": true
   },
   "outputs": [],
   "source": [
    "#отделим 10% последних данных\n",
    "df_train, df_test = train_test_split(DF_propthet, test_size=0.1, random_state=777, shuffle=False)"
   ]
  },
  {
   "cell_type": "code",
   "execution_count": 36,
   "metadata": {
    "scrolled": true
   },
   "outputs": [
    {
     "name": "stderr",
     "output_type": "stream",
     "text": [
      "11:54:04 - cmdstanpy - INFO - Chain [1] start processing\n",
      "11:54:04 - cmdstanpy - INFO - Chain [1] done processing\n"
     ]
    },
    {
     "data": {
      "text/html": [
       "<div>\n",
       "<style scoped>\n",
       "    .dataframe tbody tr th:only-of-type {\n",
       "        vertical-align: middle;\n",
       "    }\n",
       "\n",
       "    .dataframe tbody tr th {\n",
       "        vertical-align: top;\n",
       "    }\n",
       "\n",
       "    .dataframe thead th {\n",
       "        text-align: right;\n",
       "    }\n",
       "</style>\n",
       "<table border=\"1\" class=\"dataframe\">\n",
       "  <thead>\n",
       "    <tr style=\"text-align: right;\">\n",
       "      <th></th>\n",
       "      <th>ds</th>\n",
       "      <th>trend</th>\n",
       "      <th>yhat_lower</th>\n",
       "      <th>yhat_upper</th>\n",
       "      <th>trend_lower</th>\n",
       "      <th>trend_upper</th>\n",
       "      <th>additive_terms</th>\n",
       "      <th>additive_terms_lower</th>\n",
       "      <th>additive_terms_upper</th>\n",
       "      <th>daily</th>\n",
       "      <th>daily_lower</th>\n",
       "      <th>daily_upper</th>\n",
       "      <th>weekly</th>\n",
       "      <th>weekly_lower</th>\n",
       "      <th>weekly_upper</th>\n",
       "      <th>multiplicative_terms</th>\n",
       "      <th>multiplicative_terms_lower</th>\n",
       "      <th>multiplicative_terms_upper</th>\n",
       "      <th>yhat</th>\n",
       "    </tr>\n",
       "  </thead>\n",
       "  <tbody>\n",
       "    <tr>\n",
       "      <th>0</th>\n",
       "      <td>2018-08-13 14:00:00</td>\n",
       "      <td>115.25054</td>\n",
       "      <td>84.780029</td>\n",
       "      <td>147.439224</td>\n",
       "      <td>115.25054</td>\n",
       "      <td>115.25054</td>\n",
       "      <td>-0.195085</td>\n",
       "      <td>-0.195085</td>\n",
       "      <td>-0.195085</td>\n",
       "      <td>-5.331014</td>\n",
       "      <td>-5.331014</td>\n",
       "      <td>-5.331014</td>\n",
       "      <td>5.135929</td>\n",
       "      <td>5.135929</td>\n",
       "      <td>5.135929</td>\n",
       "      <td>0.0</td>\n",
       "      <td>0.0</td>\n",
       "      <td>0.0</td>\n",
       "      <td>115.055454</td>\n",
       "    </tr>\n",
       "    <tr>\n",
       "      <th>1</th>\n",
       "      <td>2018-08-13 15:00:00</td>\n",
       "      <td>115.27414</td>\n",
       "      <td>95.951358</td>\n",
       "      <td>160.054937</td>\n",
       "      <td>115.27414</td>\n",
       "      <td>115.27414</td>\n",
       "      <td>14.982206</td>\n",
       "      <td>14.982206</td>\n",
       "      <td>14.982206</td>\n",
       "      <td>10.781111</td>\n",
       "      <td>10.781111</td>\n",
       "      <td>10.781111</td>\n",
       "      <td>4.201094</td>\n",
       "      <td>4.201094</td>\n",
       "      <td>4.201094</td>\n",
       "      <td>0.0</td>\n",
       "      <td>0.0</td>\n",
       "      <td>0.0</td>\n",
       "      <td>130.256345</td>\n",
       "    </tr>\n",
       "    <tr>\n",
       "      <th>2</th>\n",
       "      <td>2018-08-13 16:00:00</td>\n",
       "      <td>115.29774</td>\n",
       "      <td>104.446615</td>\n",
       "      <td>167.582816</td>\n",
       "      <td>115.29774</td>\n",
       "      <td>115.29774</td>\n",
       "      <td>19.897588</td>\n",
       "      <td>19.897588</td>\n",
       "      <td>19.897588</td>\n",
       "      <td>16.693968</td>\n",
       "      <td>16.693968</td>\n",
       "      <td>16.693968</td>\n",
       "      <td>3.203620</td>\n",
       "      <td>3.203620</td>\n",
       "      <td>3.203620</td>\n",
       "      <td>0.0</td>\n",
       "      <td>0.0</td>\n",
       "      <td>0.0</td>\n",
       "      <td>135.195327</td>\n",
       "    </tr>\n",
       "    <tr>\n",
       "      <th>3</th>\n",
       "      <td>2018-08-13 17:00:00</td>\n",
       "      <td>115.32134</td>\n",
       "      <td>93.249021</td>\n",
       "      <td>157.210658</td>\n",
       "      <td>115.32134</td>\n",
       "      <td>115.32134</td>\n",
       "      <td>10.377368</td>\n",
       "      <td>10.377368</td>\n",
       "      <td>10.377368</td>\n",
       "      <td>8.222809</td>\n",
       "      <td>8.222809</td>\n",
       "      <td>8.222809</td>\n",
       "      <td>2.154560</td>\n",
       "      <td>2.154560</td>\n",
       "      <td>2.154560</td>\n",
       "      <td>0.0</td>\n",
       "      <td>0.0</td>\n",
       "      <td>0.0</td>\n",
       "      <td>125.698708</td>\n",
       "    </tr>\n",
       "    <tr>\n",
       "      <th>4</th>\n",
       "      <td>2018-08-13 18:00:00</td>\n",
       "      <td>115.34494</td>\n",
       "      <td>80.277900</td>\n",
       "      <td>140.641882</td>\n",
       "      <td>115.34494</td>\n",
       "      <td>115.34494</td>\n",
       "      <td>-4.630314</td>\n",
       "      <td>-4.630314</td>\n",
       "      <td>-4.630314</td>\n",
       "      <td>-5.695858</td>\n",
       "      <td>-5.695858</td>\n",
       "      <td>-5.695858</td>\n",
       "      <td>1.065544</td>\n",
       "      <td>1.065544</td>\n",
       "      <td>1.065544</td>\n",
       "      <td>0.0</td>\n",
       "      <td>0.0</td>\n",
       "      <td>0.0</td>\n",
       "      <td>110.714626</td>\n",
       "    </tr>\n",
       "  </tbody>\n",
       "</table>\n",
       "</div>"
      ],
      "text/plain": [
       "                   ds      trend  yhat_lower  yhat_upper  trend_lower  \\\n",
       "0 2018-08-13 14:00:00  115.25054   84.780029  147.439224    115.25054   \n",
       "1 2018-08-13 15:00:00  115.27414   95.951358  160.054937    115.27414   \n",
       "2 2018-08-13 16:00:00  115.29774  104.446615  167.582816    115.29774   \n",
       "3 2018-08-13 17:00:00  115.32134   93.249021  157.210658    115.32134   \n",
       "4 2018-08-13 18:00:00  115.34494   80.277900  140.641882    115.34494   \n",
       "\n",
       "   trend_upper  additive_terms  additive_terms_lower  additive_terms_upper  \\\n",
       "0    115.25054       -0.195085             -0.195085             -0.195085   \n",
       "1    115.27414       14.982206             14.982206             14.982206   \n",
       "2    115.29774       19.897588             19.897588             19.897588   \n",
       "3    115.32134       10.377368             10.377368             10.377368   \n",
       "4    115.34494       -4.630314             -4.630314             -4.630314   \n",
       "\n",
       "       daily  daily_lower  daily_upper    weekly  weekly_lower  weekly_upper  \\\n",
       "0  -5.331014    -5.331014    -5.331014  5.135929      5.135929      5.135929   \n",
       "1  10.781111    10.781111    10.781111  4.201094      4.201094      4.201094   \n",
       "2  16.693968    16.693968    16.693968  3.203620      3.203620      3.203620   \n",
       "3   8.222809     8.222809     8.222809  2.154560      2.154560      2.154560   \n",
       "4  -5.695858    -5.695858    -5.695858  1.065544      1.065544      1.065544   \n",
       "\n",
       "   multiplicative_terms  multiplicative_terms_lower  \\\n",
       "0                   0.0                         0.0   \n",
       "1                   0.0                         0.0   \n",
       "2                   0.0                         0.0   \n",
       "3                   0.0                         0.0   \n",
       "4                   0.0                         0.0   \n",
       "\n",
       "   multiplicative_terms_upper        yhat  \n",
       "0                         0.0  115.055454  \n",
       "1                         0.0  130.256345  \n",
       "2                         0.0  135.195327  \n",
       "3                         0.0  125.698708  \n",
       "4                         0.0  110.714626  "
      ]
     },
     "execution_count": 36,
     "metadata": {},
     "output_type": "execute_result"
    }
   ],
   "source": [
    "#обучим Prophet на обучающей выборке\n",
    "m = Prophet()\n",
    "m.fit(df_train)\n",
    "\n",
    "#предскажем тестовую выборку\n",
    "forecast = m.predict(df_test)\n",
    "forecast.head()"
   ]
  },
  {
   "cell_type": "code",
   "execution_count": 37,
   "metadata": {},
   "outputs": [
    {
     "data": {
      "image/png": "[encoded data removed]",
      "text/plain": [
       "<Figure size 1000x600 with 1 Axes>"
      ]
     },
     "metadata": {},
     "output_type": "display_data"
    }
   ],
   "source": [
    "#визуализация предсказания Propthet\n",
    "m.plot(forecast, uncertainty=True)\n",
    "plt.rcParams[\"figure.figsize\"] = (15,5)"
   ]
  },
  {
   "cell_type": "markdown",
   "metadata": {},
   "source": [
    "Мы видим, что Prophet правильно предсказал тренд, но шумов меньше, чем в реальных данных."
   ]
  },
  {
   "cell_type": "code",
   "execution_count": 38,
   "metadata": {
    "scrolled": false
   },
   "outputs": [
    {
     "data": {
      "image/png": "[encoded data removed]",
      "text/plain": [
       "<Figure size 900x900 with 3 Axes>"
      ]
     },
     "metadata": {},
     "output_type": "display_data"
    }
   ],
   "source": [
    "#составляющие предсказания\n",
    "m.plot_components(forecast)\n",
    "plt.rcParams[\"figure.figsize\"] = (15,4)"
   ]
  },
  {
   "cell_type": "markdown",
   "metadata": {},
   "source": [
    "Мы видим те же составляющие - тренд и сезонность, которые отметили ранее"
   ]
  },
  {
   "cell_type": "code",
   "execution_count": 39,
   "metadata": {},
   "outputs": [
    {
     "data": {
      "text/html": [
       "<div>\n",
       "<style scoped>\n",
       "    .dataframe tbody tr th:only-of-type {\n",
       "        vertical-align: middle;\n",
       "    }\n",
       "\n",
       "    .dataframe tbody tr th {\n",
       "        vertical-align: top;\n",
       "    }\n",
       "\n",
       "    .dataframe thead th {\n",
       "        text-align: right;\n",
       "    }\n",
       "</style>\n",
       "<table border=\"1\" class=\"dataframe\">\n",
       "  <thead>\n",
       "    <tr style=\"text-align: right;\">\n",
       "      <th></th>\n",
       "      <th>yhat</th>\n",
       "      <th>yhat_lower</th>\n",
       "      <th>yhat_upper</th>\n",
       "      <th>y</th>\n",
       "    </tr>\n",
       "    <tr>\n",
       "      <th>ds</th>\n",
       "      <th></th>\n",
       "      <th></th>\n",
       "      <th></th>\n",
       "      <th></th>\n",
       "    </tr>\n",
       "  </thead>\n",
       "  <tbody>\n",
       "    <tr>\n",
       "      <th>2018-08-31 19:00:00</th>\n",
       "      <td>125.569822</td>\n",
       "      <td>92.105017</td>\n",
       "      <td>157.051632</td>\n",
       "      <td>136</td>\n",
       "    </tr>\n",
       "    <tr>\n",
       "      <th>2018-08-31 20:00:00</th>\n",
       "      <td>132.683089</td>\n",
       "      <td>101.881878</td>\n",
       "      <td>164.300963</td>\n",
       "      <td>154</td>\n",
       "    </tr>\n",
       "    <tr>\n",
       "      <th>2018-08-31 21:00:00</th>\n",
       "      <td>147.575237</td>\n",
       "      <td>117.553766</td>\n",
       "      <td>177.669427</td>\n",
       "      <td>159</td>\n",
       "    </tr>\n",
       "    <tr>\n",
       "      <th>2018-08-31 22:00:00</th>\n",
       "      <td>160.558341</td>\n",
       "      <td>128.480811</td>\n",
       "      <td>191.645707</td>\n",
       "      <td>223</td>\n",
       "    </tr>\n",
       "    <tr>\n",
       "      <th>2018-08-31 23:00:00</th>\n",
       "      <td>166.826531</td>\n",
       "      <td>136.347893</td>\n",
       "      <td>198.684730</td>\n",
       "      <td>205</td>\n",
       "    </tr>\n",
       "  </tbody>\n",
       "</table>\n",
       "</div>"
      ],
      "text/plain": [
       "                           yhat  yhat_lower  yhat_upper    y\n",
       "ds                                                          \n",
       "2018-08-31 19:00:00  125.569822   92.105017  157.051632  136\n",
       "2018-08-31 20:00:00  132.683089  101.881878  164.300963  154\n",
       "2018-08-31 21:00:00  147.575237  117.553766  177.669427  159\n",
       "2018-08-31 22:00:00  160.558341  128.480811  191.645707  223\n",
       "2018-08-31 23:00:00  166.826531  136.347893  198.684730  205"
      ]
     },
     "execution_count": 39,
     "metadata": {},
     "output_type": "execute_result"
    }
   ],
   "source": [
    "cmp_df = forecast.set_index('ds')[['yhat', 'yhat_lower', 'yhat_upper']].join(DF_propthet.set_index('ds'))\n",
    "cmp_df.tail()"
   ]
  },
  {
   "cell_type": "code",
   "execution_count": 40,
   "metadata": {
    "scrolled": true
   },
   "outputs": [
    {
     "name": "stdout",
     "output_type": "stream",
     "text": [
      "RMSE 48.256401739810336\n"
     ]
    }
   ],
   "source": [
    "print('RMSE', RMSE(cmp_df['y'], cmp_df['yhat']))"
   ]
  },
  {
   "cell_type": "markdown",
   "metadata": {},
   "source": [
    "Значение метрики качества ниже, чем у рассмотренных выше моделей машинного обучения."
   ]
  },
  {
   "cell_type": "markdown",
   "metadata": {},
   "source": [
    "Также попробуем сделать преобразования Бокса-Кокса для улучшения предсказаний."
   ]
  },
  {
   "cell_type": "code",
   "execution_count": 41,
   "metadata": {},
   "outputs": [],
   "source": [
    "#зададим функцию преобразования Бокса-Кокса\n",
    "def invboxcox(y,lmbda):\n",
    "    if lmbda == 0:\n",
    "        return(np.exp(y))\n",
    "    else:\n",
    "        return(np.exp(np.log(lmbda*y+1)/lmbda))"
   ]
  },
  {
   "cell_type": "code",
   "execution_count": 42,
   "metadata": {
    "scrolled": true
   },
   "outputs": [
    {
     "name": "stderr",
     "output_type": "stream",
     "text": [
      "11:54:05 - cmdstanpy - INFO - Chain [1] start processing\n",
      "11:54:05 - cmdstanpy - INFO - Chain [1] done processing\n"
     ]
    },
    {
     "name": "stdout",
     "output_type": "stream",
     "text": [
      "RMSE 47.99912011743459\n"
     ]
    }
   ],
   "source": [
    "#сделаем копию нашей обучающей выборки, и преобразуем 'y' методом Бокса-Кокса\n",
    "train_df2 = df_train.copy()\n",
    "train_df2['y'], lmbda_prophet = stats.boxcox(train_df2['y'])\n",
    "\n",
    "#обучим нашу выборку и сделаем предсказание\n",
    "m2 = Prophet()\n",
    "m2.fit(train_df2)\n",
    "\n",
    "forecast2 = m2.predict(df_test)\n",
    "forecast2['yhat'] = invboxcox(forecast2.yhat, lmbda_prophet)\n",
    "\n",
    "cmp_df2 = forecast2.set_index('ds')[['yhat']].join(DF_propthet.set_index('ds'))\n",
    "\n",
    "print('RMSE', RMSE(cmp_df2['y'], cmp_df2['yhat']))"
   ]
  },
  {
   "cell_type": "markdown",
   "metadata": {},
   "source": [
    "Значение метрики качества немного улучшилось."
   ]
  },
  {
   "cell_type": "markdown",
   "metadata": {},
   "source": [
    "### 4.6 SARIMA"
   ]
  },
  {
   "cell_type": "code",
   "execution_count": 43,
   "metadata": {
    "scrolled": true
   },
   "outputs": [
    {
     "data": {
      "text/html": [
       "<div>\n",
       "<style scoped>\n",
       "    .dataframe tbody tr th:only-of-type {\n",
       "        vertical-align: middle;\n",
       "    }\n",
       "\n",
       "    .dataframe tbody tr th {\n",
       "        vertical-align: top;\n",
       "    }\n",
       "\n",
       "    .dataframe thead th {\n",
       "        text-align: right;\n",
       "    }\n",
       "</style>\n",
       "<table border=\"1\" class=\"dataframe\">\n",
       "  <thead>\n",
       "    <tr style=\"text-align: right;\">\n",
       "      <th></th>\n",
       "      <th>date</th>\n",
       "      <th>value</th>\n",
       "    </tr>\n",
       "  </thead>\n",
       "  <tbody>\n",
       "    <tr>\n",
       "      <th>0</th>\n",
       "      <td>2018-03-01 00:00:00</td>\n",
       "      <td>124</td>\n",
       "    </tr>\n",
       "    <tr>\n",
       "      <th>1</th>\n",
       "      <td>2018-03-01 01:00:00</td>\n",
       "      <td>85</td>\n",
       "    </tr>\n",
       "    <tr>\n",
       "      <th>2</th>\n",
       "      <td>2018-03-01 02:00:00</td>\n",
       "      <td>71</td>\n",
       "    </tr>\n",
       "    <tr>\n",
       "      <th>3</th>\n",
       "      <td>2018-03-01 03:00:00</td>\n",
       "      <td>66</td>\n",
       "    </tr>\n",
       "    <tr>\n",
       "      <th>4</th>\n",
       "      <td>2018-03-01 04:00:00</td>\n",
       "      <td>43</td>\n",
       "    </tr>\n",
       "  </tbody>\n",
       "</table>\n",
       "</div>"
      ],
      "text/plain": [
       "                 date  value\n",
       "0 2018-03-01 00:00:00    124\n",
       "1 2018-03-01 01:00:00     85\n",
       "2 2018-03-01 02:00:00     71\n",
       "3 2018-03-01 03:00:00     66\n",
       "4 2018-03-01 04:00:00     43"
      ]
     },
     "execution_count": 43,
     "metadata": {},
     "output_type": "execute_result"
    }
   ],
   "source": [
    "DF_arima = df.copy().reset_index()[['datetime', 'num_orders']]\n",
    "DF_arima.columns = ['date', 'value']\n",
    "DF_arima.head()"
   ]
  },
  {
   "cell_type": "markdown",
   "metadata": {},
   "source": [
    "Для определения параметров модели воспользуемся расширенным тестом Дики-Фуллера, который может помочь определить, является ли временной ряд стационарным. "
   ]
  },
  {
   "cell_type": "code",
   "execution_count": 44,
   "metadata": {
    "scrolled": true
   },
   "outputs": [
    {
     "name": "stdout",
     "output_type": "stream",
     "text": [
      "ADF Statistic: -3.0751401525105035\n",
      "p-value: 0.028448470934702683\n"
     ]
    }
   ],
   "source": [
    "# Тест Дики-Фуллера на стационарность\n",
    "ad_fuller_result = adfuller(DF_arima['value'])\n",
    "\n",
    "print(f'ADF Statistic: {ad_fuller_result[0]}')\n",
    "print(f'p-value: {ad_fuller_result[1]}')"
   ]
  },
  {
   "cell_type": "markdown",
   "metadata": {},
   "source": [
    "Так как p-value менее 0.05 можно отвергнуть нулевую гипотезу о нестационарности - смещение производить не будем."
   ]
  },
  {
   "cell_type": "code",
   "execution_count": 45,
   "metadata": {
    "scrolled": true
   },
   "outputs": [
    {
     "data": {
      "image/png": "[encoded data removed]",
      "text/plain": [
       "<Figure size 1400x800 with 2 Axes>"
      ]
     },
     "metadata": {},
     "output_type": "display_data"
    }
   ],
   "source": [
    "#ACF и FACP графики\n",
    "fig = plt.figure(figsize=(14,8))\n",
    "ax1 = fig.add_subplot(211)\n",
    "fig = sm.graphics.tsa.plot_acf(DF_arima['value'].dropna(),lags=50,ax=ax1)\n",
    "ax2 = fig.add_subplot(212)\n",
    "fig = sm.graphics.tsa.plot_pacf(DF_arima['value'].dropna(),lags=50,ax=ax2)"
   ]
  },
  {
   "cell_type": "code",
   "execution_count": 46,
   "metadata": {},
   "outputs": [],
   "source": [
    "#отделим 10% последних данных\n",
    "ARIMA_train, ARIMA_test = train_test_split(DF_arima, test_size=0.1, random_state=777, shuffle=False)\n",
    "start = len(ARIMA_train)\n",
    "end = len(ARIMA_train) + len(ARIMA_test) - 1"
   ]
  },
  {
   "cell_type": "code",
   "execution_count": 47,
   "metadata": {
    "scrolled": true
   },
   "outputs": [
    {
     "name": "stdout",
     "output_type": "stream",
     "text": [
      "                                     SARIMAX Results                                      \n",
      "==========================================================================================\n",
      "Dep. Variable:                              value   No. Observations:                 3973\n",
      "Model:             SARIMAX(2, 0, 2)x(2, 0, 2, 24)   Log Likelihood              -17961.762\n",
      "Date:                            Thu, 12 Oct 2023   AIC                          35941.524\n",
      "Time:                                    11:56:06   BIC                          35998.110\n",
      "Sample:                                         0   HQIC                         35961.589\n",
      "                                           - 3973                                         \n",
      "Covariance Type:                              opg                                         \n",
      "==============================================================================\n",
      "                 coef    std err          z      P>|z|      [0.025      0.975]\n",
      "------------------------------------------------------------------------------\n",
      "ar.L1          1.8698      0.014    137.864      0.000       1.843       1.896\n",
      "ar.L2         -0.8759      0.012    -74.460      0.000      -0.899      -0.853\n",
      "ma.L1         -1.7294      0.013   -130.184      0.000      -1.755      -1.703\n",
      "ma.L2          0.7449      0.012     59.861      0.000       0.720       0.769\n",
      "ar.S.L24       0.0924      0.004     23.563      0.000       0.085       0.100\n",
      "ar.S.L48       0.9047      0.005    200.424      0.000       0.896       0.914\n",
      "ma.S.L24       0.0565      0.005     12.096      0.000       0.047       0.066\n",
      "ma.S.L48      -0.8325      0.010    -82.077      0.000      -0.852      -0.813\n",
      "sigma2       486.6042      6.031     80.678      0.000     474.783     498.426\n",
      "===================================================================================\n",
      "Ljung-Box (L1) (Q):                   1.26   Jarque-Bera (JB):              7109.89\n",
      "Prob(Q):                              0.26   Prob(JB):                         0.00\n",
      "Heteroskedasticity (H):               1.85   Skew:                             1.05\n",
      "Prob(H) (two-sided):                  0.00   Kurtosis:                         9.21\n",
      "===================================================================================\n",
      "\n",
      "Warnings:\n",
      "[1] Covariance matrix calculated using the outer product of gradients (complex-step).\n"
     ]
    }
   ],
   "source": [
    "#обучим модель\n",
    "best_model = SARIMAX(ARIMA_train['value'], order=(2, 0, 2), seasonal_order=(2, 0, 2, 24)).fit(dis=-1)\n",
    "print(best_model.summary())"
   ]
  },
  {
   "cell_type": "code",
   "execution_count": 48,
   "metadata": {},
   "outputs": [],
   "source": [
    "predictions = best_model.predict(start=start, end=end, dynamic=False, typ='levels')"
   ]
  },
  {
   "cell_type": "code",
   "execution_count": 49,
   "metadata": {
    "scrolled": true
   },
   "outputs": [
    {
     "name": "stdout",
     "output_type": "stream",
     "text": [
      "RMSE 51.247818585899665\n"
     ]
    }
   ],
   "source": [
    "print('RMSE', RMSE(ARIMA_test['value'], predictions))"
   ]
  },
  {
   "cell_type": "markdown",
   "metadata": {},
   "source": [
    "Метрика качества оказалась хуже других моделей, возможно вследствие специфики данного набора данных. Можно попробовать подобрать гиперпараметры, но это я оставлю на доработку."
   ]
  },
  {
   "cell_type": "markdown",
   "metadata": {},
   "source": [
    "**Выводы**:\n",
    "1. Выборка была поделена на обучающую и тестовую\n",
    "2. Модели машинного обучения были обучены и протестированы методом кросс-валидации с использованием TimeSeriesSplit деления по фолдам.\n",
    "3. Были протестированы forecast модели Propthet и Sarima.\n",
    "4. Была отобрана модель с лучшей метрикой RMSE, лучшая метрика была получена с помощью catboost регрессора, RMSE составило 25.71\n",
    "Параметры лучшей модели: {'depth': 6, 'iterations': 2000, 'learning_rate': 0.03, 'min_child_samples': 1}"
   ]
  },
  {
   "cell_type": "markdown",
   "metadata": {},
   "source": [
    "## 5. Тестирование"
   ]
  },
  {
   "cell_type": "code",
   "execution_count": 50,
   "metadata": {
    "scrolled": false
   },
   "outputs": [
    {
     "name": "stdout",
     "output_type": "stream",
     "text": [
      "RMSE на тестовой выборке = 39.800975013643715\n"
     ]
    }
   ],
   "source": [
    "print('RMSE на тестовой выборке =', RMSE(y_test, cat_Grid.predict(X_test)))"
   ]
  },
  {
   "cell_type": "code",
   "execution_count": 51,
   "metadata": {},
   "outputs": [
    {
     "data": {
      "image/png": "[encoded data removed]",
      "text/plain": [
       "<Figure size 1700x700 with 1 Axes>"
      ]
     },
     "metadata": {},
     "output_type": "display_data"
    }
   ],
   "source": [
    "#визуализация предсказаний модели и реальных значений целевой функции\n",
    "pd.DataFrame(cat_Grid.predict(X_test), index=y_test.index)['2018-08-13':'2018-08-20'].rename(columns={0: 'Prediction'}).plot(legend=True)\n",
    "\n",
    "y_test.name = 'Real'\n",
    "y_test['2018-08-13':'2018-08-20'].plot(figsize=(17, 7), legend=True, title='Предсказания и реальные данные');"
   ]
  },
  {
   "cell_type": "markdown",
   "metadata": {},
   "source": [
    "## 6. Выводы"
   ]
  },
  {
   "cell_type": "markdown",
   "metadata": {},
   "source": [
    "1. Данные были загружены и изучены. Было проведено ресемплирование данных по одному часу.\n",
    "2. В данных были обработаны экстремальные значения.\n",
    "3. Была изучена сезонность в данных.\n",
    "4. Были созданы новые признаки на основании исторических данных -  на основании временного сдвига (до 24 ч) и на основании скользящих средних.\n",
    "5. Выборка была поделена на обучающую и тестовую выборки в соотношении 9/1.\n",
    "6. Были обучены модели машинного обучения, подобраны их гиперпараметры. Модели были протестированы кросс-валидацией с делением по временному ряду.\n",
    "7. На основании этого была отобрана лучшая модель машинного обучения Catboost и протестирована на тестовых данных. Метрика RMSE на тестовой выборке составила 39.489. \n",
    "\n",
    "Параметры лучшей модели Catboost{'depth': 6, 'iterations': 2000, 'learning_rate': 0.03, 'min_child_samples': 1}"
   ]
  }
 ],
 "metadata": {
  "ExecuteTimeLog": [
   {
    "duration": 409,
    "start_time": "2023-06-20T11:01:04.212Z"
   },
   {
    "duration": 60,
    "start_time": "2023-06-20T11:01:22.083Z"
   },
   {
    "duration": 300,
    "start_time": "2023-06-20T11:01:28.100Z"
   },
   {
    "duration": 52,
    "start_time": "2023-06-20T11:01:44.539Z"
   },
   {
    "duration": 47,
    "start_time": "2023-06-20T11:02:11.170Z"
   },
   {
    "duration": 53,
    "start_time": "2023-06-20T11:03:01.325Z"
   },
   {
    "duration": 2,
    "start_time": "2023-06-20T11:03:46.309Z"
   },
   {
    "duration": 19,
    "start_time": "2023-06-20T11:04:31.309Z"
   },
   {
    "duration": 6,
    "start_time": "2023-06-20T11:04:54.224Z"
   },
   {
    "duration": 2,
    "start_time": "2023-06-20T11:05:05.510Z"
   },
   {
    "duration": 7,
    "start_time": "2023-06-20T11:05:09.846Z"
   },
   {
    "duration": 7,
    "start_time": "2023-06-20T11:05:12.798Z"
   },
   {
    "duration": 11,
    "start_time": "2023-06-20T11:05:19.257Z"
   },
   {
    "duration": 7,
    "start_time": "2023-06-20T11:05:23.094Z"
   },
   {
    "duration": 7,
    "start_time": "2023-06-20T11:05:31.239Z"
   },
   {
    "duration": 6,
    "start_time": "2023-06-20T11:06:08.543Z"
   },
   {
    "duration": 2,
    "start_time": "2023-06-20T11:06:11.369Z"
   },
   {
    "duration": 55,
    "start_time": "2023-06-20T11:06:12.255Z"
   },
   {
    "duration": 9,
    "start_time": "2023-06-20T11:06:14.141Z"
   },
   {
    "duration": 4,
    "start_time": "2023-06-20T11:06:22.151Z"
   },
   {
    "duration": 11,
    "start_time": "2023-06-20T11:06:27.838Z"
   },
   {
    "duration": 16,
    "start_time": "2023-06-20T11:07:51.771Z"
   },
   {
    "duration": 4,
    "start_time": "2023-06-20T11:07:54.283Z"
   },
   {
    "duration": 11,
    "start_time": "2023-06-20T11:07:55.120Z"
   },
   {
    "duration": 49,
    "start_time": "2023-06-20T11:07:59.865Z"
   },
   {
    "duration": 2,
    "start_time": "2023-06-20T11:08:05.992Z"
   },
   {
    "duration": 56,
    "start_time": "2023-06-20T11:08:06.536Z"
   },
   {
    "duration": 7,
    "start_time": "2023-06-20T11:08:06.992Z"
   },
   {
    "duration": 3,
    "start_time": "2023-06-20T11:08:13.848Z"
   },
   {
    "duration": 4,
    "start_time": "2023-06-20T11:08:28.769Z"
   },
   {
    "duration": 9,
    "start_time": "2023-06-20T11:08:33.600Z"
   },
   {
    "duration": 8,
    "start_time": "2023-06-20T11:08:42.888Z"
   },
   {
    "duration": 3,
    "start_time": "2023-06-20T11:08:45.180Z"
   },
   {
    "duration": 47,
    "start_time": "2023-06-20T11:08:45.705Z"
   },
   {
    "duration": 3,
    "start_time": "2023-06-20T11:08:46.184Z"
   },
   {
    "duration": 7,
    "start_time": "2023-06-20T11:08:46.771Z"
   },
   {
    "duration": 3,
    "start_time": "2023-06-20T11:09:02.505Z"
   },
   {
    "duration": 55,
    "start_time": "2023-06-20T11:09:03.049Z"
   },
   {
    "duration": 7,
    "start_time": "2023-06-20T11:13:27.296Z"
   },
   {
    "duration": 11,
    "start_time": "2023-06-20T11:13:39.094Z"
   },
   {
    "duration": 9,
    "start_time": "2023-06-20T11:13:41.464Z"
   },
   {
    "duration": 8,
    "start_time": "2023-06-20T11:13:44.436Z"
   },
   {
    "duration": 7,
    "start_time": "2023-06-20T11:14:15.696Z"
   },
   {
    "duration": 6,
    "start_time": "2023-06-20T11:14:28.295Z"
   },
   {
    "duration": 4,
    "start_time": "2023-06-20T11:14:44.337Z"
   },
   {
    "duration": 8,
    "start_time": "2023-06-20T11:14:45.473Z"
   },
   {
    "duration": 7,
    "start_time": "2023-06-20T11:14:52.683Z"
   },
   {
    "duration": 16,
    "start_time": "2023-06-20T11:15:02.067Z"
   },
   {
    "duration": 4,
    "start_time": "2023-06-20T11:15:08.638Z"
   },
   {
    "duration": 8,
    "start_time": "2023-06-20T11:15:13.230Z"
   },
   {
    "duration": 2,
    "start_time": "2023-06-20T11:15:19.397Z"
   },
   {
    "duration": 46,
    "start_time": "2023-06-20T11:15:19.806Z"
   },
   {
    "duration": 4,
    "start_time": "2023-06-20T11:15:19.988Z"
   },
   {
    "duration": 14,
    "start_time": "2023-06-20T11:15:20.371Z"
   },
   {
    "duration": 20,
    "start_time": "2023-06-20T11:15:26.849Z"
   },
   {
    "duration": 25,
    "start_time": "2023-06-20T11:15:29.542Z"
   },
   {
    "duration": 7,
    "start_time": "2023-06-20T11:23:45.496Z"
   },
   {
    "duration": 7,
    "start_time": "2023-06-20T11:23:55.628Z"
   },
   {
    "duration": 12,
    "start_time": "2023-06-20T11:24:01.800Z"
   },
   {
    "duration": 18,
    "start_time": "2023-06-20T11:25:39.645Z"
   },
   {
    "duration": 16,
    "start_time": "2023-06-20T11:26:06.742Z"
   },
   {
    "duration": 15,
    "start_time": "2023-06-20T11:26:18.504Z"
   },
   {
    "duration": 494,
    "start_time": "2023-06-20T11:27:25.888Z"
   },
   {
    "duration": 507,
    "start_time": "2023-06-20T11:29:20.795Z"
   },
   {
    "duration": 3,
    "start_time": "2023-06-20T11:29:22.915Z"
   },
   {
    "duration": 51,
    "start_time": "2023-06-20T11:29:23.299Z"
   },
   {
    "duration": 5,
    "start_time": "2023-06-20T11:29:23.472Z"
   },
   {
    "duration": 9,
    "start_time": "2023-06-20T11:29:23.639Z"
   },
   {
    "duration": 11,
    "start_time": "2023-06-20T11:29:24.696Z"
   },
   {
    "duration": 11,
    "start_time": "2023-06-20T11:29:25.135Z"
   },
   {
    "duration": 92,
    "start_time": "2023-06-20T11:29:25.735Z"
   },
   {
    "duration": 108,
    "start_time": "2023-06-20T11:29:30.728Z"
   },
   {
    "duration": 3,
    "start_time": "2023-06-20T11:29:45.239Z"
   },
   {
    "duration": 96,
    "start_time": "2023-06-20T11:30:00.612Z"
   },
   {
    "duration": 96,
    "start_time": "2023-06-20T11:30:08.328Z"
   },
   {
    "duration": 119,
    "start_time": "2023-06-20T11:30:16.410Z"
   },
   {
    "duration": 110,
    "start_time": "2023-06-20T11:30:21.632Z"
   },
   {
    "duration": 66,
    "start_time": "2023-06-20T11:31:00.337Z"
   },
   {
    "duration": 104,
    "start_time": "2023-06-20T11:31:19.491Z"
   },
   {
    "duration": 173,
    "start_time": "2023-06-20T11:31:26.248Z"
   },
   {
    "duration": 103,
    "start_time": "2023-06-20T11:31:33.469Z"
   },
   {
    "duration": 97,
    "start_time": "2023-06-20T11:31:39.649Z"
   },
   {
    "duration": 99,
    "start_time": "2023-06-20T11:31:46.588Z"
   },
   {
    "duration": 111,
    "start_time": "2023-06-20T11:31:52.492Z"
   },
   {
    "duration": 104,
    "start_time": "2023-06-20T11:32:17.709Z"
   },
   {
    "duration": 140,
    "start_time": "2023-06-20T11:32:50.795Z"
   },
   {
    "duration": 237,
    "start_time": "2023-06-20T11:32:56.745Z"
   },
   {
    "duration": 254,
    "start_time": "2023-06-20T11:33:36.139Z"
   },
   {
    "duration": 66,
    "start_time": "2023-06-20T11:35:10.503Z"
   },
   {
    "duration": 21,
    "start_time": "2023-06-20T11:37:13.853Z"
   },
   {
    "duration": 7,
    "start_time": "2023-06-20T11:37:18.411Z"
   },
   {
    "duration": 362,
    "start_time": "2023-06-20T11:37:24.100Z"
   },
   {
    "duration": 9,
    "start_time": "2023-06-20T11:39:37.719Z"
   },
   {
    "duration": 25,
    "start_time": "2023-06-20T11:39:47.527Z"
   },
   {
    "duration": 20,
    "start_time": "2023-06-20T11:40:03.551Z"
   },
   {
    "duration": 14,
    "start_time": "2023-06-20T11:40:27.751Z"
   },
   {
    "duration": 289,
    "start_time": "2023-06-20T11:40:54.203Z"
   },
   {
    "duration": 3,
    "start_time": "2023-06-20T11:41:15.504Z"
   },
   {
    "duration": 48,
    "start_time": "2023-06-20T11:41:16.096Z"
   },
   {
    "duration": 4,
    "start_time": "2023-06-20T11:41:16.301Z"
   },
   {
    "duration": 9,
    "start_time": "2023-06-20T11:41:16.527Z"
   },
   {
    "duration": 9,
    "start_time": "2023-06-20T11:41:17.297Z"
   },
   {
    "duration": 20,
    "start_time": "2023-06-20T11:41:17.456Z"
   },
   {
    "duration": 342,
    "start_time": "2023-06-20T11:41:17.668Z"
   },
   {
    "duration": 127,
    "start_time": "2023-06-20T11:41:26.707Z"
   },
   {
    "duration": 306,
    "start_time": "2023-06-20T11:41:27.496Z"
   },
   {
    "duration": 8,
    "start_time": "2023-06-20T11:41:37.303Z"
   },
   {
    "duration": 10,
    "start_time": "2023-06-20T11:41:37.905Z"
   },
   {
    "duration": 204,
    "start_time": "2023-06-20T11:41:41.695Z"
   },
   {
    "duration": 3,
    "start_time": "2023-06-20T11:41:55.432Z"
   },
   {
    "duration": 47,
    "start_time": "2023-06-20T11:41:55.768Z"
   },
   {
    "duration": 4,
    "start_time": "2023-06-20T11:41:55.904Z"
   },
   {
    "duration": 7,
    "start_time": "2023-06-20T11:41:56.032Z"
   },
   {
    "duration": 11,
    "start_time": "2023-06-20T11:41:56.504Z"
   },
   {
    "duration": 22,
    "start_time": "2023-06-20T11:41:56.648Z"
   },
   {
    "duration": 316,
    "start_time": "2023-06-20T11:41:56.816Z"
   },
   {
    "duration": 235,
    "start_time": "2023-06-20T11:43:50.095Z"
   },
   {
    "duration": 77,
    "start_time": "2023-06-20T11:43:55.106Z"
   },
   {
    "duration": 255,
    "start_time": "2023-06-20T11:43:57.650Z"
   },
   {
    "duration": 10,
    "start_time": "2023-06-20T11:44:28.191Z"
   },
   {
    "duration": 15,
    "start_time": "2023-06-20T11:44:47.198Z"
   },
   {
    "duration": 376,
    "start_time": "2023-06-20T11:44:51.851Z"
   },
   {
    "duration": 249,
    "start_time": "2023-06-20T11:44:58.995Z"
   },
   {
    "duration": 327,
    "start_time": "2023-06-20T11:45:17.450Z"
   },
   {
    "duration": 11,
    "start_time": "2023-06-20T11:45:36.401Z"
   },
   {
    "duration": 326,
    "start_time": "2023-06-20T11:45:40.448Z"
   },
   {
    "duration": 250,
    "start_time": "2023-06-20T11:45:48.725Z"
   },
   {
    "duration": 299,
    "start_time": "2023-06-20T11:46:32.836Z"
   },
   {
    "duration": 234,
    "start_time": "2023-06-20T11:47:11.168Z"
   },
   {
    "duration": 231,
    "start_time": "2023-06-20T11:47:13.516Z"
   },
   {
    "duration": 260,
    "start_time": "2023-06-20T11:48:18.525Z"
   },
   {
    "duration": 116,
    "start_time": "2023-06-20T11:48:23.506Z"
   },
   {
    "duration": 415,
    "start_time": "2023-06-20T11:48:26.185Z"
   },
   {
    "duration": 260,
    "start_time": "2023-06-20T11:49:02.010Z"
   },
   {
    "duration": 253,
    "start_time": "2023-06-20T11:50:12.645Z"
   },
   {
    "duration": 105,
    "start_time": "2023-06-20T11:50:54.995Z"
   },
   {
    "duration": 269,
    "start_time": "2023-06-20T11:50:55.307Z"
   },
   {
    "duration": 8,
    "start_time": "2023-06-20T11:51:00.772Z"
   },
   {
    "duration": 232,
    "start_time": "2023-06-20T11:51:03.999Z"
   },
   {
    "duration": 196,
    "start_time": "2023-06-20T11:51:06.904Z"
   },
   {
    "duration": 4,
    "start_time": "2023-06-20T11:53:54.328Z"
   },
   {
    "duration": 54,
    "start_time": "2023-06-20T11:53:55.032Z"
   },
   {
    "duration": 4,
    "start_time": "2023-06-20T11:53:55.203Z"
   },
   {
    "duration": 7,
    "start_time": "2023-06-20T11:54:06.033Z"
   },
   {
    "duration": 10,
    "start_time": "2023-06-20T11:54:06.601Z"
   },
   {
    "duration": 18,
    "start_time": "2023-06-20T11:54:06.745Z"
   },
   {
    "duration": 233,
    "start_time": "2023-06-20T11:54:07.208Z"
   },
   {
    "duration": 290,
    "start_time": "2023-06-20T11:54:07.595Z"
   },
   {
    "duration": 100,
    "start_time": "2023-06-20T11:54:08.416Z"
   },
   {
    "duration": 355,
    "start_time": "2023-06-20T11:54:09.113Z"
   },
   {
    "duration": 7,
    "start_time": "2023-06-20T11:54:11.499Z"
   },
   {
    "duration": 17,
    "start_time": "2023-06-20T11:54:12.248Z"
   },
   {
    "duration": 10,
    "start_time": "2023-06-20T11:54:18.608Z"
   },
   {
    "duration": 24,
    "start_time": "2023-06-20T11:55:41.072Z"
   },
   {
    "duration": 6,
    "start_time": "2023-06-20T11:55:47.426Z"
   },
   {
    "duration": 13,
    "start_time": "2023-06-20T11:55:52.233Z"
   },
   {
    "duration": 11,
    "start_time": "2023-06-20T11:56:58.702Z"
   },
   {
    "duration": 9,
    "start_time": "2023-06-20T11:57:15.771Z"
   },
   {
    "duration": 9,
    "start_time": "2023-06-20T11:57:26.571Z"
   },
   {
    "duration": 18,
    "start_time": "2023-06-20T11:57:33.404Z"
   },
   {
    "duration": 258,
    "start_time": "2023-06-20T11:57:37.676Z"
   },
   {
    "duration": 4,
    "start_time": "2023-06-20T11:57:50.419Z"
   },
   {
    "duration": 47,
    "start_time": "2023-06-20T11:57:50.763Z"
   },
   {
    "duration": 4,
    "start_time": "2023-06-20T11:57:50.947Z"
   },
   {
    "duration": 7,
    "start_time": "2023-06-20T11:57:51.107Z"
   },
   {
    "duration": 10,
    "start_time": "2023-06-20T11:57:51.603Z"
   },
   {
    "duration": 12,
    "start_time": "2023-06-20T11:57:51.769Z"
   },
   {
    "duration": 243,
    "start_time": "2023-06-20T11:57:51.939Z"
   },
   {
    "duration": 255,
    "start_time": "2023-06-20T11:57:52.183Z"
   },
   {
    "duration": 102,
    "start_time": "2023-06-20T11:57:52.671Z"
   },
   {
    "duration": 228,
    "start_time": "2023-06-20T11:57:53.488Z"
   },
   {
    "duration": 7,
    "start_time": "2023-06-20T11:57:53.895Z"
   },
   {
    "duration": 220,
    "start_time": "2023-06-20T11:57:54.099Z"
   },
   {
    "duration": 212,
    "start_time": "2023-06-20T11:58:50.596Z"
   },
   {
    "duration": 196,
    "start_time": "2023-06-20T11:59:09.597Z"
   },
   {
    "duration": 231,
    "start_time": "2023-06-20T11:59:34.541Z"
   },
   {
    "duration": 197,
    "start_time": "2023-06-20T12:00:04.540Z"
   },
   {
    "duration": 213,
    "start_time": "2023-06-20T12:00:51.371Z"
   },
   {
    "duration": 388,
    "start_time": "2023-06-20T12:01:02.118Z"
   },
   {
    "duration": 212,
    "start_time": "2023-06-20T12:01:02.717Z"
   },
   {
    "duration": 13,
    "start_time": "2023-06-20T12:02:05.639Z"
   },
   {
    "duration": 13,
    "start_time": "2023-06-20T12:02:09.935Z"
   },
   {
    "duration": 226,
    "start_time": "2023-06-20T12:02:22.319Z"
   },
   {
    "duration": 5,
    "start_time": "2023-06-20T12:02:49.563Z"
   },
   {
    "duration": 273,
    "start_time": "2023-06-20T12:02:53.247Z"
   },
   {
    "duration": 216,
    "start_time": "2023-06-20T12:03:47.495Z"
   },
   {
    "duration": 196,
    "start_time": "2023-06-20T12:05:42.641Z"
   },
   {
    "duration": 292,
    "start_time": "2023-06-20T12:10:54.295Z"
   },
   {
    "duration": 179,
    "start_time": "2023-06-20T12:11:05.022Z"
   },
   {
    "duration": 155,
    "start_time": "2023-06-20T12:11:36.181Z"
   },
   {
    "duration": 164,
    "start_time": "2023-06-20T12:11:58.542Z"
   },
   {
    "duration": 272,
    "start_time": "2023-06-20T12:12:11.630Z"
   },
   {
    "duration": 193,
    "start_time": "2023-06-20T12:12:42.717Z"
   },
   {
    "duration": 159,
    "start_time": "2023-06-20T12:12:47.039Z"
   },
   {
    "duration": 187,
    "start_time": "2023-06-20T12:13:06.689Z"
   },
   {
    "duration": 3,
    "start_time": "2023-06-20T12:14:03.393Z"
   },
   {
    "duration": 50,
    "start_time": "2023-06-20T12:14:03.691Z"
   },
   {
    "duration": 4,
    "start_time": "2023-06-20T12:14:03.871Z"
   },
   {
    "duration": 8,
    "start_time": "2023-06-20T12:14:04.021Z"
   },
   {
    "duration": 13,
    "start_time": "2023-06-20T12:14:04.537Z"
   },
   {
    "duration": 12,
    "start_time": "2023-06-20T12:14:04.710Z"
   },
   {
    "duration": 245,
    "start_time": "2023-06-20T12:14:04.887Z"
   },
   {
    "duration": 223,
    "start_time": "2023-06-20T12:14:05.134Z"
   },
   {
    "duration": 343,
    "start_time": "2023-06-20T12:14:44.171Z"
   },
   {
    "duration": 156,
    "start_time": "2023-06-20T12:14:51.591Z"
   },
   {
    "duration": 195,
    "start_time": "2023-06-20T12:14:55.911Z"
   },
   {
    "duration": 167,
    "start_time": "2023-06-20T12:15:01.952Z"
   },
   {
    "duration": 114,
    "start_time": "2023-06-20T12:15:59.624Z"
   },
   {
    "duration": 3,
    "start_time": "2023-06-20T12:17:35.521Z"
   },
   {
    "duration": 63,
    "start_time": "2023-06-20T12:17:35.841Z"
   },
   {
    "duration": 4,
    "start_time": "2023-06-20T12:17:36.010Z"
   },
   {
    "duration": 11,
    "start_time": "2023-06-20T12:17:36.187Z"
   },
   {
    "duration": 17,
    "start_time": "2023-06-20T12:17:36.929Z"
   },
   {
    "duration": 17,
    "start_time": "2023-06-20T12:17:37.388Z"
   },
   {
    "duration": 101,
    "start_time": "2023-06-20T12:17:37.746Z"
   },
   {
    "duration": 252,
    "start_time": "2023-06-20T12:17:38.271Z"
   },
   {
    "duration": 8,
    "start_time": "2023-06-20T12:17:39.752Z"
   },
   {
    "duration": 222,
    "start_time": "2023-06-20T12:17:40.320Z"
   },
   {
    "duration": 212,
    "start_time": "2023-06-20T12:17:41.271Z"
   },
   {
    "duration": 220,
    "start_time": "2023-06-20T12:17:42.706Z"
   },
   {
    "duration": 155,
    "start_time": "2023-06-20T12:17:45.122Z"
   },
   {
    "duration": 104,
    "start_time": "2023-06-20T12:19:03.299Z"
   },
   {
    "duration": 6,
    "start_time": "2023-06-20T12:19:49.933Z"
   },
   {
    "duration": 18,
    "start_time": "2023-06-20T12:19:53.635Z"
   },
   {
    "duration": 5,
    "start_time": "2023-06-20T12:20:13.099Z"
   },
   {
    "duration": 15,
    "start_time": "2023-06-20T12:20:15.474Z"
   },
   {
    "duration": 6,
    "start_time": "2023-06-20T12:20:50.115Z"
   },
   {
    "duration": 5,
    "start_time": "2023-06-20T12:20:54.211Z"
   },
   {
    "duration": 15,
    "start_time": "2023-06-20T12:20:54.398Z"
   },
   {
    "duration": 6,
    "start_time": "2023-06-20T12:21:11.116Z"
   },
   {
    "duration": 6,
    "start_time": "2023-06-20T12:21:38.374Z"
   },
   {
    "duration": 20,
    "start_time": "2023-06-20T12:25:37.561Z"
   },
   {
    "duration": 382,
    "start_time": "2023-06-20T12:27:06.713Z"
   },
   {
    "duration": 33,
    "start_time": "2023-06-20T12:27:31.595Z"
   },
   {
    "duration": 37,
    "start_time": "2023-06-20T12:27:37.138Z"
   },
   {
    "duration": 5,
    "start_time": "2023-06-20T12:27:40.419Z"
   },
   {
    "duration": 5,
    "start_time": "2023-06-20T12:27:49.513Z"
   },
   {
    "duration": 10,
    "start_time": "2023-06-20T12:28:51.049Z"
   },
   {
    "duration": 6,
    "start_time": "2023-06-20T12:29:17.722Z"
   },
   {
    "duration": 3,
    "start_time": "2023-06-20T12:30:17.107Z"
   },
   {
    "duration": 16,
    "start_time": "2023-06-20T12:30:45.380Z"
   },
   {
    "duration": 3,
    "start_time": "2023-06-20T12:30:53.142Z"
   },
   {
    "duration": 4,
    "start_time": "2023-06-20T12:32:06.131Z"
   },
   {
    "duration": 11,
    "start_time": "2023-06-20T12:32:06.460Z"
   },
   {
    "duration": 5,
    "start_time": "2023-06-20T12:32:06.748Z"
   },
   {
    "duration": 15,
    "start_time": "2023-06-20T12:33:01.226Z"
   },
   {
    "duration": 3,
    "start_time": "2023-06-20T12:33:11.940Z"
   },
   {
    "duration": 4,
    "start_time": "2023-06-20T12:33:12.394Z"
   },
   {
    "duration": 15,
    "start_time": "2023-06-20T12:33:15.391Z"
   },
   {
    "duration": 7,
    "start_time": "2023-06-20T12:33:20.162Z"
   },
   {
    "duration": 21,
    "start_time": "2023-06-20T12:33:35.045Z"
   },
   {
    "duration": 6,
    "start_time": "2023-06-20T12:33:44.646Z"
   },
   {
    "duration": 4,
    "start_time": "2023-06-20T12:33:48.699Z"
   },
   {
    "duration": 24,
    "start_time": "2023-06-20T12:34:07.214Z"
   },
   {
    "duration": 3,
    "start_time": "2023-06-20T12:34:11.941Z"
   },
   {
    "duration": 10,
    "start_time": "2023-06-20T12:34:24.303Z"
   },
   {
    "duration": 12,
    "start_time": "2023-06-20T12:34:29.416Z"
   },
   {
    "duration": 4,
    "start_time": "2023-06-20T12:34:48.495Z"
   },
   {
    "duration": 11,
    "start_time": "2023-06-20T12:35:13.177Z"
   },
   {
    "duration": 10,
    "start_time": "2023-06-20T12:35:22.795Z"
   },
   {
    "duration": 13,
    "start_time": "2023-06-20T12:35:27.702Z"
   },
   {
    "duration": 8,
    "start_time": "2023-06-20T12:35:48.239Z"
   },
   {
    "duration": 6,
    "start_time": "2023-06-20T12:35:53.099Z"
   },
   {
    "duration": 10,
    "start_time": "2023-06-20T12:36:04.055Z"
   },
   {
    "duration": 11,
    "start_time": "2023-06-20T12:36:10.305Z"
   },
   {
    "duration": 6,
    "start_time": "2023-06-20T12:36:14.394Z"
   },
   {
    "duration": 6,
    "start_time": "2023-06-20T12:36:45.641Z"
   },
   {
    "duration": 7,
    "start_time": "2023-06-20T12:37:03.010Z"
   },
   {
    "duration": 11,
    "start_time": "2023-06-20T12:37:23.076Z"
   },
   {
    "duration": 3,
    "start_time": "2023-06-20T12:37:42.921Z"
   },
   {
    "duration": 12,
    "start_time": "2023-06-20T12:37:50.802Z"
   },
   {
    "duration": 13,
    "start_time": "2023-06-20T12:38:01.172Z"
   },
   {
    "duration": 6,
    "start_time": "2023-06-20T12:38:20.219Z"
   },
   {
    "duration": 5,
    "start_time": "2023-06-20T12:38:50.206Z"
   },
   {
    "duration": 9,
    "start_time": "2023-06-20T12:39:06.747Z"
   },
   {
    "duration": 5,
    "start_time": "2023-06-20T12:39:09.738Z"
   },
   {
    "duration": 4,
    "start_time": "2023-06-20T12:39:17.747Z"
   },
   {
    "duration": 10,
    "start_time": "2023-06-20T12:42:38.820Z"
   },
   {
    "duration": 110,
    "start_time": "2023-06-20T12:42:52.725Z"
   },
   {
    "duration": 10,
    "start_time": "2023-06-20T12:42:57.704Z"
   },
   {
    "duration": 137,
    "start_time": "2023-06-20T12:44:39.847Z"
   },
   {
    "duration": 157,
    "start_time": "2023-06-20T12:44:47.598Z"
   },
   {
    "duration": 32,
    "start_time": "2023-06-20T12:45:53.257Z"
   },
   {
    "duration": 4,
    "start_time": "2023-06-20T12:46:36.346Z"
   },
   {
    "duration": 281150,
    "start_time": "2023-06-20T12:52:27.007Z"
   },
   {
    "duration": 3,
    "start_time": "2023-06-20T12:58:12.023Z"
   },
   {
    "duration": 4,
    "start_time": "2023-06-20T12:58:14.001Z"
   },
   {
    "duration": 6,
    "start_time": "2023-06-20T12:58:14.632Z"
   },
   {
    "duration": 14,
    "start_time": "2023-06-20T12:58:20.692Z"
   },
   {
    "duration": 7,
    "start_time": "2023-06-20T12:58:21.107Z"
   },
   {
    "duration": 12,
    "start_time": "2023-06-20T12:58:21.901Z"
   },
   {
    "duration": 284084,
    "start_time": "2023-06-20T12:58:22.584Z"
   },
   {
    "duration": 25,
    "start_time": "2023-06-20T13:05:40.778Z"
   },
   {
    "duration": 26,
    "start_time": "2023-06-20T13:05:44.550Z"
   },
   {
    "duration": 7,
    "start_time": "2023-06-20T13:08:39.670Z"
   },
   {
    "duration": 9,
    "start_time": "2023-06-20T13:08:40.040Z"
   },
   {
    "duration": 6,
    "start_time": "2023-06-20T13:33:59.414Z"
   },
   {
    "duration": 15,
    "start_time": "2023-06-20T13:33:59.645Z"
   },
   {
    "duration": 3,
    "start_time": "2023-06-20T13:34:02.341Z"
   },
   {
    "duration": 5,
    "start_time": "2023-06-20T13:34:02.645Z"
   },
   {
    "duration": 5,
    "start_time": "2023-06-20T13:34:02.997Z"
   },
   {
    "duration": 6,
    "start_time": "2023-06-20T13:34:03.495Z"
   },
   {
    "duration": 10,
    "start_time": "2023-06-20T13:34:04.406Z"
   },
   {
    "duration": 22,
    "start_time": "2023-06-20T13:34:09.394Z"
   },
   {
    "duration": 25,
    "start_time": "2023-06-20T13:34:31.047Z"
   },
   {
    "duration": 290521,
    "start_time": "2023-06-20T13:34:34.151Z"
   },
   {
    "duration": 81,
    "start_time": "2023-06-20T13:45:50.943Z"
   },
   {
    "duration": 5,
    "start_time": "2023-06-20T13:45:55.018Z"
   },
   {
    "duration": 93,
    "start_time": "2023-06-20T13:45:55.310Z"
   },
   {
    "duration": 4,
    "start_time": "2023-06-20T13:45:55.458Z"
   },
   {
    "duration": 8,
    "start_time": "2023-06-20T13:45:55.610Z"
   },
   {
    "duration": 35,
    "start_time": "2023-06-20T13:45:56.054Z"
   },
   {
    "duration": 18,
    "start_time": "2023-06-20T13:45:56.214Z"
   },
   {
    "duration": 143,
    "start_time": "2023-06-20T13:45:56.371Z"
   },
   {
    "duration": 284,
    "start_time": "2023-06-20T13:45:56.534Z"
   },
   {
    "duration": 13,
    "start_time": "2023-06-20T13:45:56.883Z"
   },
   {
    "duration": 251,
    "start_time": "2023-06-20T13:45:57.038Z"
   },
   {
    "duration": 294,
    "start_time": "2023-06-20T13:45:57.397Z"
   },
   {
    "duration": 268,
    "start_time": "2023-06-20T13:45:59.857Z"
   },
   {
    "duration": 17,
    "start_time": "2023-06-20T13:46:40.864Z"
   },
   {
    "duration": 20,
    "start_time": "2023-06-20T13:46:44.895Z"
   },
   {
    "duration": 12,
    "start_time": "2023-06-20T13:46:45.118Z"
   },
   {
    "duration": 1510,
    "start_time": "2023-06-20T15:14:56.321Z"
   },
   {
    "duration": 289,
    "start_time": "2023-06-20T15:14:57.833Z"
   },
   {
    "duration": 4,
    "start_time": "2023-06-20T15:14:58.125Z"
   },
   {
    "duration": 9,
    "start_time": "2023-06-20T15:14:58.406Z"
   },
   {
    "duration": 10,
    "start_time": "2023-06-20T15:14:59.514Z"
   },
   {
    "duration": 13,
    "start_time": "2023-06-20T15:14:59.892Z"
   },
   {
    "duration": 142,
    "start_time": "2023-06-20T15:15:00.192Z"
   },
   {
    "duration": 238,
    "start_time": "2023-06-20T15:15:00.485Z"
   },
   {
    "duration": 7,
    "start_time": "2023-06-20T15:15:15.168Z"
   },
   {
    "duration": 257,
    "start_time": "2023-06-20T15:15:15.405Z"
   },
   {
    "duration": 3,
    "start_time": "2023-06-20T15:15:51.279Z"
   },
   {
    "duration": 54,
    "start_time": "2023-06-20T15:15:51.660Z"
   },
   {
    "duration": 5,
    "start_time": "2023-06-20T15:15:51.838Z"
   },
   {
    "duration": 8,
    "start_time": "2023-06-20T15:15:52.025Z"
   },
   {
    "duration": 11,
    "start_time": "2023-06-20T15:15:52.625Z"
   },
   {
    "duration": 13,
    "start_time": "2023-06-20T15:15:52.892Z"
   },
   {
    "duration": 207,
    "start_time": "2023-06-20T15:15:53.201Z"
   },
   {
    "duration": 257,
    "start_time": "2023-06-20T15:15:53.590Z"
   },
   {
    "duration": 7,
    "start_time": "2023-06-20T15:15:54.505Z"
   },
   {
    "duration": 217,
    "start_time": "2023-06-20T15:15:54.792Z"
   },
   {
    "duration": 202,
    "start_time": "2023-06-20T15:16:01.035Z"
   },
   {
    "duration": 9,
    "start_time": "2023-06-20T15:18:24.099Z"
   },
   {
    "duration": 9,
    "start_time": "2023-06-20T15:18:24.805Z"
   },
   {
    "duration": 67,
    "start_time": "2023-06-20T15:20:35.588Z"
   },
   {
    "duration": 64,
    "start_time": "2023-06-20T15:21:08.317Z"
   },
   {
    "duration": 18,
    "start_time": "2023-06-20T15:21:32.439Z"
   },
   {
    "duration": 13,
    "start_time": "2023-06-20T15:21:38.352Z"
   },
   {
    "duration": 39,
    "start_time": "2023-06-20T15:21:42.758Z"
   },
   {
    "duration": 3,
    "start_time": "2023-06-20T15:21:49.535Z"
   },
   {
    "duration": 5,
    "start_time": "2023-06-20T15:21:49.931Z"
   },
   {
    "duration": 7,
    "start_time": "2023-06-20T15:21:50.372Z"
   },
   {
    "duration": 6,
    "start_time": "2023-06-20T15:21:50.972Z"
   },
   {
    "duration": 91,
    "start_time": "2023-06-20T15:21:51.980Z"
   },
   {
    "duration": 14,
    "start_time": "2023-06-20T15:22:03.644Z"
   },
   {
    "duration": 20,
    "start_time": "2023-06-20T15:22:09.765Z"
   },
   {
    "duration": 33,
    "start_time": "2023-06-20T15:22:16.542Z"
   },
   {
    "duration": 73,
    "start_time": "2023-06-20T15:23:26.025Z"
   },
   {
    "duration": 19,
    "start_time": "2023-06-20T15:23:36.100Z"
   },
   {
    "duration": 63,
    "start_time": "2023-06-20T15:23:37.333Z"
   },
   {
    "duration": 4,
    "start_time": "2023-06-20T15:23:52.503Z"
   },
   {
    "duration": 64,
    "start_time": "2023-06-20T15:23:53.326Z"
   },
   {
    "duration": 5,
    "start_time": "2023-06-20T15:23:53.723Z"
   },
   {
    "duration": 10,
    "start_time": "2023-06-20T15:23:54.104Z"
   },
   {
    "duration": 15,
    "start_time": "2023-06-20T15:23:55.266Z"
   },
   {
    "duration": 15,
    "start_time": "2023-06-20T15:23:55.649Z"
   },
   {
    "duration": 123,
    "start_time": "2023-06-20T15:23:56.028Z"
   },
   {
    "duration": 280,
    "start_time": "2023-06-20T15:23:56.414Z"
   },
   {
    "duration": 8,
    "start_time": "2023-06-20T15:23:57.556Z"
   },
   {
    "duration": 249,
    "start_time": "2023-06-20T15:23:57.992Z"
   },
   {
    "duration": 243,
    "start_time": "2023-06-20T15:23:59.592Z"
   },
   {
    "duration": 232,
    "start_time": "2023-06-20T15:24:29.189Z"
   },
   {
    "duration": 360,
    "start_time": "2023-06-20T15:24:30.633Z"
   },
   {
    "duration": 176,
    "start_time": "2023-06-20T15:24:31.354Z"
   },
   {
    "duration": 6,
    "start_time": "2023-06-20T15:24:33.138Z"
   },
   {
    "duration": 28,
    "start_time": "2023-06-20T15:24:34.006Z"
   },
   {
    "duration": 51,
    "start_time": "2023-06-20T15:24:34.892Z"
   },
   {
    "duration": 538,
    "start_time": "2023-06-20T15:25:12.486Z"
   },
   {
    "duration": 553,
    "start_time": "2023-06-20T15:25:28.967Z"
   },
   {
    "duration": 577,
    "start_time": "2023-06-20T15:25:44.163Z"
   },
   {
    "duration": 935,
    "start_time": "2023-06-20T15:25:49.630Z"
   },
   {
    "duration": 1026,
    "start_time": "2023-06-20T15:26:00.237Z"
   },
   {
    "duration": 908,
    "start_time": "2023-06-20T15:26:08.250Z"
   },
   {
    "duration": 4,
    "start_time": "2023-06-20T15:26:46.450Z"
   },
   {
    "duration": 6,
    "start_time": "2023-06-20T15:26:47.082Z"
   },
   {
    "duration": 7,
    "start_time": "2023-06-20T15:26:48.626Z"
   },
   {
    "duration": 7,
    "start_time": "2023-06-20T15:26:48.993Z"
   },
   {
    "duration": 148,
    "start_time": "2023-06-20T15:26:50.640Z"
   },
   {
    "duration": 15,
    "start_time": "2023-06-20T15:27:06.292Z"
   },
   {
    "duration": 924,
    "start_time": "2023-06-20T15:27:07.051Z"
   },
   {
    "duration": 4,
    "start_time": "2023-06-20T15:27:13.469Z"
   },
   {
    "duration": 5,
    "start_time": "2023-06-20T15:27:13.789Z"
   },
   {
    "duration": 8,
    "start_time": "2023-06-20T15:27:14.147Z"
   },
   {
    "duration": 6,
    "start_time": "2023-06-20T15:27:14.627Z"
   },
   {
    "duration": 183,
    "start_time": "2023-06-20T15:27:15.392Z"
   },
   {
    "duration": 4,
    "start_time": "2023-06-20T15:29:07.698Z"
   },
   {
    "duration": 74,
    "start_time": "2023-06-20T15:29:07.705Z"
   },
   {
    "duration": 6,
    "start_time": "2023-06-20T15:29:07.782Z"
   },
   {
    "duration": 11,
    "start_time": "2023-06-20T15:29:07.790Z"
   },
   {
    "duration": 10,
    "start_time": "2023-06-20T15:29:07.804Z"
   },
   {
    "duration": 14,
    "start_time": "2023-06-20T15:29:07.816Z"
   },
   {
    "duration": 151,
    "start_time": "2023-06-20T15:29:07.833Z"
   },
   {
    "duration": 274,
    "start_time": "2023-06-20T15:29:07.986Z"
   },
   {
    "duration": 20,
    "start_time": "2023-06-20T15:29:08.261Z"
   },
   {
    "duration": 243,
    "start_time": "2023-06-20T15:29:08.283Z"
   },
   {
    "duration": 262,
    "start_time": "2023-06-20T15:29:08.528Z"
   },
   {
    "duration": 237,
    "start_time": "2023-06-20T15:29:08.793Z"
   },
   {
    "duration": 302,
    "start_time": "2023-06-20T15:29:09.032Z"
   },
   {
    "duration": 6,
    "start_time": "2023-06-20T15:29:09.338Z"
   },
   {
    "duration": 38,
    "start_time": "2023-06-20T15:29:09.346Z"
   },
   {
    "duration": 4,
    "start_time": "2023-06-20T15:29:12.625Z"
   },
   {
    "duration": 50,
    "start_time": "2023-06-20T15:29:12.988Z"
   },
   {
    "duration": 10,
    "start_time": "2023-06-20T15:29:13.150Z"
   },
   {
    "duration": 8,
    "start_time": "2023-06-20T15:29:13.314Z"
   },
   {
    "duration": 11,
    "start_time": "2023-06-20T15:29:13.823Z"
   },
   {
    "duration": 14,
    "start_time": "2023-06-20T15:29:13.999Z"
   },
   {
    "duration": 167,
    "start_time": "2023-06-20T15:29:14.185Z"
   },
   {
    "duration": 262,
    "start_time": "2023-06-20T15:29:14.399Z"
   },
   {
    "duration": 7,
    "start_time": "2023-06-20T15:29:14.815Z"
   },
   {
    "duration": 233,
    "start_time": "2023-06-20T15:29:15.006Z"
   },
   {
    "duration": 216,
    "start_time": "2023-06-20T15:29:15.403Z"
   },
   {
    "duration": 208,
    "start_time": "2023-06-20T15:29:16.413Z"
   },
   {
    "duration": 161,
    "start_time": "2023-06-20T15:29:17.416Z"
   },
   {
    "duration": 6,
    "start_time": "2023-06-20T15:29:19.119Z"
   },
   {
    "duration": 20,
    "start_time": "2023-06-20T15:29:19.837Z"
   },
   {
    "duration": 5,
    "start_time": "2023-06-20T15:29:31.640Z"
   },
   {
    "duration": 4,
    "start_time": "2023-06-20T15:29:34.786Z"
   },
   {
    "duration": 38,
    "start_time": "2023-06-20T15:29:39.291Z"
   },
   {
    "duration": 10,
    "start_time": "2023-06-20T15:30:17.056Z"
   },
   {
    "duration": 975,
    "start_time": "2023-06-20T15:30:19.356Z"
   },
   {
    "duration": 4,
    "start_time": "2023-06-20T15:30:53.202Z"
   },
   {
    "duration": 13,
    "start_time": "2023-06-20T15:30:53.864Z"
   },
   {
    "duration": 10,
    "start_time": "2023-06-20T15:30:54.363Z"
   },
   {
    "duration": 5,
    "start_time": "2023-06-20T15:30:54.700Z"
   },
   {
    "duration": 70,
    "start_time": "2023-06-20T15:30:55.298Z"
   },
   {
    "duration": 4,
    "start_time": "2023-06-20T15:35:02.300Z"
   },
   {
    "duration": 48,
    "start_time": "2023-06-20T15:35:02.701Z"
   },
   {
    "duration": 6,
    "start_time": "2023-06-20T15:35:02.889Z"
   },
   {
    "duration": 12,
    "start_time": "2023-06-20T15:35:03.064Z"
   },
   {
    "duration": 12,
    "start_time": "2023-06-20T15:35:03.627Z"
   },
   {
    "duration": 14,
    "start_time": "2023-06-20T15:35:03.802Z"
   },
   {
    "duration": 130,
    "start_time": "2023-06-20T15:35:03.980Z"
   },
   {
    "duration": 377,
    "start_time": "2023-06-20T15:35:04.153Z"
   },
   {
    "duration": 7,
    "start_time": "2023-06-20T15:35:04.532Z"
   },
   {
    "duration": 255,
    "start_time": "2023-06-20T15:35:04.693Z"
   },
   {
    "duration": 243,
    "start_time": "2023-06-20T15:35:05.041Z"
   },
   {
    "duration": 210,
    "start_time": "2023-06-20T15:35:05.408Z"
   },
   {
    "duration": 166,
    "start_time": "2023-06-20T15:35:06.720Z"
   },
   {
    "duration": 6,
    "start_time": "2023-06-20T15:35:07.996Z"
   },
   {
    "duration": 28,
    "start_time": "2023-06-20T15:35:22.675Z"
   },
   {
    "duration": 5,
    "start_time": "2023-06-20T15:35:23.336Z"
   },
   {
    "duration": 10,
    "start_time": "2023-06-20T15:35:23.893Z"
   },
   {
    "duration": 878,
    "start_time": "2023-06-20T15:35:24.718Z"
   },
   {
    "duration": 820,
    "start_time": "2023-06-20T15:35:32.971Z"
   },
   {
    "duration": 4,
    "start_time": "2023-06-20T15:35:36.805Z"
   },
   {
    "duration": 6,
    "start_time": "2023-06-20T15:35:37.140Z"
   },
   {
    "duration": 6,
    "start_time": "2023-06-20T15:35:37.425Z"
   },
   {
    "duration": 5,
    "start_time": "2023-06-20T15:35:37.891Z"
   },
   {
    "duration": 217,
    "start_time": "2023-06-20T15:35:38.567Z"
   },
   {
    "duration": 61,
    "start_time": "2023-06-20T15:35:52.795Z"
   },
   {
    "duration": 4,
    "start_time": "2023-06-20T15:35:53.093Z"
   },
   {
    "duration": 9,
    "start_time": "2023-06-20T15:35:53.266Z"
   },
   {
    "duration": 11,
    "start_time": "2023-06-20T15:35:53.809Z"
   },
   {
    "duration": 14,
    "start_time": "2023-06-20T15:35:54.001Z"
   },
   {
    "duration": 130,
    "start_time": "2023-06-20T15:35:54.170Z"
   },
   {
    "duration": 371,
    "start_time": "2023-06-20T15:35:54.338Z"
   },
   {
    "duration": 9,
    "start_time": "2023-06-20T15:35:54.711Z"
   },
   {
    "duration": 216,
    "start_time": "2023-06-20T15:35:54.893Z"
   },
   {
    "duration": 204,
    "start_time": "2023-06-20T15:35:55.224Z"
   },
   {
    "duration": 204,
    "start_time": "2023-06-20T15:35:55.693Z"
   },
   {
    "duration": 160,
    "start_time": "2023-06-20T15:35:56.548Z"
   },
   {
    "duration": 6,
    "start_time": "2023-06-20T15:35:57.722Z"
   },
   {
    "duration": 20,
    "start_time": "2023-06-20T15:35:58.696Z"
   },
   {
    "duration": 5,
    "start_time": "2023-06-20T15:36:00.046Z"
   },
   {
    "duration": 16,
    "start_time": "2023-06-20T15:36:05.897Z"
   },
   {
    "duration": 87,
    "start_time": "2023-06-20T15:36:06.222Z"
   },
   {
    "duration": 115,
    "start_time": "2023-06-20T15:36:06.468Z"
   },
   {
    "duration": 6037,
    "start_time": "2023-06-20T15:36:06.695Z"
   },
   {
    "duration": 15,
    "start_time": "2023-06-20T15:36:12.734Z"
   },
   {
    "duration": 1366,
    "start_time": "2023-06-20T15:36:12.751Z"
   },
   {
    "duration": 145,
    "start_time": "2023-06-20T15:36:14.121Z"
   },
   {
    "duration": 0,
    "start_time": "2023-06-20T15:36:14.268Z"
   },
   {
    "duration": 0,
    "start_time": "2023-06-20T15:36:14.269Z"
   },
   {
    "duration": 0,
    "start_time": "2023-06-20T15:36:14.270Z"
   },
   {
    "duration": 0,
    "start_time": "2023-06-20T15:36:14.271Z"
   },
   {
    "duration": 6,
    "start_time": "2023-06-20T15:36:19.066Z"
   },
   {
    "duration": 7,
    "start_time": "2023-06-20T15:36:19.426Z"
   },
   {
    "duration": 841,
    "start_time": "2023-06-20T15:36:20.401Z"
   },
   {
    "duration": 3,
    "start_time": "2023-06-20T15:36:21.244Z"
   },
   {
    "duration": 5,
    "start_time": "2023-06-20T15:36:21.311Z"
   },
   {
    "duration": 6,
    "start_time": "2023-06-20T15:36:21.896Z"
   },
   {
    "duration": 6,
    "start_time": "2023-06-20T15:36:22.308Z"
   },
   {
    "duration": 148,
    "start_time": "2023-06-20T15:36:23.827Z"
   },
   {
    "duration": 3,
    "start_time": "2023-06-20T15:36:51.556Z"
   },
   {
    "duration": 71,
    "start_time": "2023-06-20T15:36:51.561Z"
   },
   {
    "duration": 5,
    "start_time": "2023-06-20T15:36:51.634Z"
   },
   {
    "duration": 21,
    "start_time": "2023-06-20T15:36:51.641Z"
   },
   {
    "duration": 14,
    "start_time": "2023-06-20T15:36:51.665Z"
   },
   {
    "duration": 39,
    "start_time": "2023-06-20T15:36:51.682Z"
   },
   {
    "duration": 131,
    "start_time": "2023-06-20T15:36:51.723Z"
   },
   {
    "duration": 279,
    "start_time": "2023-06-20T15:36:51.856Z"
   },
   {
    "duration": 9,
    "start_time": "2023-06-20T15:36:52.137Z"
   },
   {
    "duration": 279,
    "start_time": "2023-06-20T15:36:52.148Z"
   },
   {
    "duration": 254,
    "start_time": "2023-06-20T15:36:52.429Z"
   },
   {
    "duration": 795,
    "start_time": "2023-06-20T15:36:52.684Z"
   },
   {
    "duration": 163,
    "start_time": "2023-06-20T15:36:53.480Z"
   },
   {
    "duration": 5,
    "start_time": "2023-06-20T15:36:53.646Z"
   },
   {
    "duration": 32,
    "start_time": "2023-06-20T15:36:53.652Z"
   },
   {
    "duration": 9,
    "start_time": "2023-06-20T15:36:53.687Z"
   },
   {
    "duration": 13,
    "start_time": "2023-06-20T15:36:53.698Z"
   },
   {
    "duration": 958,
    "start_time": "2023-06-20T15:36:53.713Z"
   },
   {
    "duration": 7,
    "start_time": "2023-06-20T15:36:54.675Z"
   },
   {
    "duration": 31,
    "start_time": "2023-06-20T15:36:54.684Z"
   },
   {
    "duration": 12,
    "start_time": "2023-06-20T15:36:54.717Z"
   },
   {
    "duration": 15,
    "start_time": "2023-06-20T15:36:54.731Z"
   },
   {
    "duration": 418,
    "start_time": "2023-06-20T15:36:54.748Z"
   },
   {
    "duration": 15320,
    "start_time": "2023-06-20T15:36:55.174Z"
   },
   {
    "duration": 0,
    "start_time": "2023-06-20T15:37:10.497Z"
   },
   {
    "duration": 0,
    "start_time": "2023-06-20T15:37:10.498Z"
   },
   {
    "duration": 0,
    "start_time": "2023-06-20T15:37:10.499Z"
   },
   {
    "duration": 0,
    "start_time": "2023-06-20T15:37:10.500Z"
   },
   {
    "duration": 4,
    "start_time": "2023-06-20T15:37:13.828Z"
   },
   {
    "duration": 64,
    "start_time": "2023-06-20T15:37:15.617Z"
   },
   {
    "duration": 6,
    "start_time": "2023-06-20T15:37:16.640Z"
   },
   {
    "duration": 9,
    "start_time": "2023-06-20T15:37:17.253Z"
   },
   {
    "duration": 15,
    "start_time": "2023-06-20T15:37:18.698Z"
   },
   {
    "duration": 12,
    "start_time": "2023-06-20T15:37:19.458Z"
   },
   {
    "duration": 110,
    "start_time": "2023-06-20T15:37:20.096Z"
   },
   {
    "duration": 293,
    "start_time": "2023-06-20T15:37:20.845Z"
   },
   {
    "duration": 10,
    "start_time": "2023-06-20T15:37:22.167Z"
   },
   {
    "duration": 238,
    "start_time": "2023-06-20T15:37:22.748Z"
   },
   {
    "duration": 228,
    "start_time": "2023-06-20T15:37:24.580Z"
   },
   {
    "duration": 216,
    "start_time": "2023-06-20T15:37:26.316Z"
   },
   {
    "duration": 154,
    "start_time": "2023-06-20T15:37:27.802Z"
   },
   {
    "duration": 8,
    "start_time": "2023-06-20T15:37:29.775Z"
   },
   {
    "duration": 19,
    "start_time": "2023-06-20T15:37:31.605Z"
   },
   {
    "duration": 6,
    "start_time": "2023-06-20T15:37:34.226Z"
   },
   {
    "duration": 9,
    "start_time": "2023-06-20T15:37:34.633Z"
   },
   {
    "duration": 983,
    "start_time": "2023-06-20T15:37:35.092Z"
   },
   {
    "duration": 3,
    "start_time": "2023-06-20T15:37:37.412Z"
   },
   {
    "duration": 5,
    "start_time": "2023-06-20T15:37:37.904Z"
   },
   {
    "duration": 7,
    "start_time": "2023-06-20T15:37:38.405Z"
   },
   {
    "duration": 6,
    "start_time": "2023-06-20T15:37:38.919Z"
   },
   {
    "duration": 125,
    "start_time": "2023-06-20T15:37:39.441Z"
   },
   {
    "duration": 7625,
    "start_time": "2023-06-20T15:37:43.056Z"
   },
   {
    "duration": 3,
    "start_time": "2023-06-20T15:37:55.734Z"
   },
   {
    "duration": 1549,
    "start_time": "2023-06-20T15:38:07.305Z"
   },
   {
    "duration": 69,
    "start_time": "2023-06-20T15:38:09.117Z"
   },
   {
    "duration": 5,
    "start_time": "2023-06-20T15:38:10.059Z"
   },
   {
    "duration": 15,
    "start_time": "2023-06-20T15:38:10.757Z"
   },
   {
    "duration": 11,
    "start_time": "2023-06-20T15:38:12.700Z"
   },
   {
    "duration": 12,
    "start_time": "2023-06-20T15:38:13.331Z"
   },
   {
    "duration": 119,
    "start_time": "2023-06-20T15:38:13.741Z"
   },
   {
    "duration": 247,
    "start_time": "2023-06-20T15:38:14.310Z"
   },
   {
    "duration": 11,
    "start_time": "2023-06-20T15:38:15.182Z"
   },
   {
    "duration": 290,
    "start_time": "2023-06-20T15:38:15.517Z"
   },
   {
    "duration": 308,
    "start_time": "2023-06-20T15:38:16.539Z"
   },
   {
    "duration": 215,
    "start_time": "2023-06-20T15:38:17.545Z"
   },
   {
    "duration": 157,
    "start_time": "2023-06-20T15:38:18.417Z"
   },
   {
    "duration": 6,
    "start_time": "2023-06-20T15:38:20.241Z"
   },
   {
    "duration": 18,
    "start_time": "2023-06-20T15:38:21.306Z"
   },
   {
    "duration": 6,
    "start_time": "2023-06-20T15:38:23.179Z"
   },
   {
    "duration": 10,
    "start_time": "2023-06-20T15:38:23.868Z"
   },
   {
    "duration": 813,
    "start_time": "2023-06-20T15:38:24.526Z"
   },
   {
    "duration": 4,
    "start_time": "2023-06-20T15:38:30.746Z"
   },
   {
    "duration": 5,
    "start_time": "2023-06-20T15:38:31.630Z"
   },
   {
    "duration": 6,
    "start_time": "2023-06-20T15:38:32.417Z"
   },
   {
    "duration": 5,
    "start_time": "2023-06-20T15:38:32.946Z"
   },
   {
    "duration": 167,
    "start_time": "2023-06-20T15:38:34.003Z"
   },
   {
    "duration": 4,
    "start_time": "2023-06-20T15:38:58.938Z"
   },
   {
    "duration": 52,
    "start_time": "2023-06-20T15:38:59.906Z"
   },
   {
    "duration": 4,
    "start_time": "2023-06-20T15:39:00.522Z"
   },
   {
    "duration": 8,
    "start_time": "2023-06-20T15:39:01.386Z"
   },
   {
    "duration": 12,
    "start_time": "2023-06-20T15:39:03.224Z"
   },
   {
    "duration": 13,
    "start_time": "2023-06-20T15:39:03.816Z"
   },
   {
    "duration": 115,
    "start_time": "2023-06-20T15:39:04.511Z"
   },
   {
    "duration": 256,
    "start_time": "2023-06-20T15:39:05.193Z"
   },
   {
    "duration": 7,
    "start_time": "2023-06-20T15:39:06.375Z"
   },
   {
    "duration": 252,
    "start_time": "2023-06-20T15:39:06.827Z"
   },
   {
    "duration": 222,
    "start_time": "2023-06-20T15:39:07.750Z"
   },
   {
    "duration": 190,
    "start_time": "2023-06-20T15:39:09.109Z"
   },
   {
    "duration": 249,
    "start_time": "2023-06-20T15:39:10.377Z"
   },
   {
    "duration": 6,
    "start_time": "2023-06-20T15:39:12.569Z"
   },
   {
    "duration": 19,
    "start_time": "2023-06-20T15:39:13.705Z"
   },
   {
    "duration": 5,
    "start_time": "2023-06-20T15:39:14.369Z"
   },
   {
    "duration": 11,
    "start_time": "2023-06-20T15:39:15.072Z"
   },
   {
    "duration": 812,
    "start_time": "2023-06-20T15:39:15.604Z"
   },
   {
    "duration": 3,
    "start_time": "2023-06-20T15:39:17.057Z"
   },
   {
    "duration": 4,
    "start_time": "2023-06-20T15:39:17.704Z"
   },
   {
    "duration": 7,
    "start_time": "2023-06-20T15:39:18.310Z"
   },
   {
    "duration": 6,
    "start_time": "2023-06-20T15:39:19.004Z"
   },
   {
    "duration": 175,
    "start_time": "2023-06-20T15:39:19.593Z"
   },
   {
    "duration": 3,
    "start_time": "2023-06-20T15:39:47.548Z"
   },
   {
    "duration": 48,
    "start_time": "2023-06-20T15:39:48.309Z"
   },
   {
    "duration": 3,
    "start_time": "2023-06-20T15:39:48.624Z"
   },
   {
    "duration": 7,
    "start_time": "2023-06-20T15:39:48.945Z"
   },
   {
    "duration": 10,
    "start_time": "2023-06-20T15:39:49.778Z"
   },
   {
    "duration": 12,
    "start_time": "2023-06-20T15:39:50.051Z"
   },
   {
    "duration": 105,
    "start_time": "2023-06-20T15:39:50.302Z"
   },
   {
    "duration": 224,
    "start_time": "2023-06-20T15:39:50.538Z"
   },
   {
    "duration": 7,
    "start_time": "2023-06-20T15:39:51.046Z"
   },
   {
    "duration": 219,
    "start_time": "2023-06-20T15:39:51.304Z"
   },
   {
    "duration": 237,
    "start_time": "2023-06-20T15:39:51.802Z"
   },
   {
    "duration": 213,
    "start_time": "2023-06-20T15:39:52.323Z"
   },
   {
    "duration": 148,
    "start_time": "2023-06-20T15:39:52.901Z"
   },
   {
    "duration": 8,
    "start_time": "2023-06-20T15:39:54.066Z"
   },
   {
    "duration": 19,
    "start_time": "2023-06-20T15:39:55.069Z"
   },
   {
    "duration": 6,
    "start_time": "2023-06-20T15:39:55.415Z"
   },
   {
    "duration": 10,
    "start_time": "2023-06-20T15:39:55.762Z"
   },
   {
    "duration": 948,
    "start_time": "2023-06-20T15:39:56.226Z"
   },
   {
    "duration": 3,
    "start_time": "2023-06-20T15:39:57.431Z"
   },
   {
    "duration": 7,
    "start_time": "2023-06-20T15:39:58.102Z"
   },
   {
    "duration": 7,
    "start_time": "2023-06-20T15:39:58.548Z"
   },
   {
    "duration": 6,
    "start_time": "2023-06-20T15:39:59.228Z"
   },
   {
    "duration": 121,
    "start_time": "2023-06-20T15:40:00.050Z"
   },
   {
    "duration": 3,
    "start_time": "2023-06-20T15:40:17.432Z"
   },
   {
    "duration": 51,
    "start_time": "2023-06-20T15:40:18.256Z"
   },
   {
    "duration": 4,
    "start_time": "2023-06-20T15:40:18.757Z"
   },
   {
    "duration": 8,
    "start_time": "2023-06-20T15:40:19.102Z"
   },
   {
    "duration": 14,
    "start_time": "2023-06-20T15:40:20.384Z"
   },
   {
    "duration": 12,
    "start_time": "2023-06-20T15:40:20.662Z"
   },
   {
    "duration": 105,
    "start_time": "2023-06-20T15:40:20.928Z"
   },
   {
    "duration": 230,
    "start_time": "2023-06-20T15:40:21.180Z"
   },
   {
    "duration": 6,
    "start_time": "2023-06-20T15:40:21.678Z"
   },
   {
    "duration": 214,
    "start_time": "2023-06-20T15:40:21.898Z"
   },
   {
    "duration": 202,
    "start_time": "2023-06-20T15:40:22.379Z"
   },
   {
    "duration": 212,
    "start_time": "2023-06-20T15:40:23.134Z"
   },
   {
    "duration": 160,
    "start_time": "2023-06-20T15:40:23.762Z"
   },
   {
    "duration": 5,
    "start_time": "2023-06-20T15:40:24.898Z"
   },
   {
    "duration": 19,
    "start_time": "2023-06-20T15:40:25.697Z"
   },
   {
    "duration": 5,
    "start_time": "2023-06-20T15:40:25.957Z"
   },
   {
    "duration": 10,
    "start_time": "2023-06-20T15:40:26.189Z"
   },
   {
    "duration": 794,
    "start_time": "2023-06-20T15:40:26.419Z"
   },
   {
    "duration": 3,
    "start_time": "2023-06-20T15:40:27.215Z"
   },
   {
    "duration": 5,
    "start_time": "2023-06-20T15:40:27.361Z"
   },
   {
    "duration": 5,
    "start_time": "2023-06-20T15:40:27.854Z"
   },
   {
    "duration": 5,
    "start_time": "2023-06-20T15:40:28.230Z"
   },
   {
    "duration": 207,
    "start_time": "2023-06-20T15:40:28.664Z"
   },
   {
    "duration": 4,
    "start_time": "2023-06-20T15:40:48.398Z"
   },
   {
    "duration": 50,
    "start_time": "2023-06-20T15:40:49.564Z"
   },
   {
    "duration": 5,
    "start_time": "2023-06-20T15:40:50.104Z"
   },
   {
    "duration": 9,
    "start_time": "2023-06-20T15:40:50.574Z"
   },
   {
    "duration": 13,
    "start_time": "2023-06-20T15:40:51.695Z"
   },
   {
    "duration": 14,
    "start_time": "2023-06-20T15:40:52.013Z"
   },
   {
    "duration": 107,
    "start_time": "2023-06-20T15:40:52.394Z"
   },
   {
    "duration": 378,
    "start_time": "2023-06-20T15:40:52.715Z"
   },
   {
    "duration": 9,
    "start_time": "2023-06-20T15:40:53.442Z"
   },
   {
    "duration": 271,
    "start_time": "2023-06-20T15:40:53.774Z"
   },
   {
    "duration": 232,
    "start_time": "2023-06-20T15:40:54.430Z"
   },
   {
    "duration": 211,
    "start_time": "2023-06-20T15:40:55.141Z"
   },
   {
    "duration": 163,
    "start_time": "2023-06-20T15:40:55.945Z"
   },
   {
    "duration": 7,
    "start_time": "2023-06-20T15:40:57.146Z"
   },
   {
    "duration": 21,
    "start_time": "2023-06-20T15:40:58.105Z"
   },
   {
    "duration": 5,
    "start_time": "2023-06-20T15:40:58.608Z"
   },
   {
    "duration": 11,
    "start_time": "2023-06-20T15:40:58.915Z"
   },
   {
    "duration": 819,
    "start_time": "2023-06-20T15:40:59.314Z"
   },
   {
    "duration": 3,
    "start_time": "2023-06-20T15:41:00.135Z"
   },
   {
    "duration": 5,
    "start_time": "2023-06-20T15:41:00.594Z"
   },
   {
    "duration": 7,
    "start_time": "2023-06-20T15:41:01.018Z"
   },
   {
    "duration": 5,
    "start_time": "2023-06-20T15:41:01.441Z"
   },
   {
    "duration": 107,
    "start_time": "2023-06-20T15:41:02.062Z"
   },
   {
    "duration": 1664,
    "start_time": "2023-06-21T05:35:50.940Z"
   },
   {
    "duration": 210,
    "start_time": "2023-06-21T05:35:52.605Z"
   },
   {
    "duration": 4,
    "start_time": "2023-06-21T05:35:52.816Z"
   },
   {
    "duration": 8,
    "start_time": "2023-06-21T05:35:53.491Z"
   },
   {
    "duration": 11,
    "start_time": "2023-06-21T05:35:55.315Z"
   },
   {
    "duration": 16,
    "start_time": "2023-06-21T05:35:55.748Z"
   },
   {
    "duration": 161,
    "start_time": "2023-06-21T05:35:56.211Z"
   },
   {
    "duration": 249,
    "start_time": "2023-06-21T05:35:56.603Z"
   },
   {
    "duration": 12,
    "start_time": "2023-06-21T05:35:57.628Z"
   },
   {
    "duration": 289,
    "start_time": "2023-06-21T05:35:57.907Z"
   },
   {
    "duration": 309,
    "start_time": "2023-06-21T05:35:58.572Z"
   },
   {
    "duration": 241,
    "start_time": "2023-06-21T05:36:01.364Z"
   },
   {
    "duration": 249,
    "start_time": "2023-06-21T05:36:02.206Z"
   },
   {
    "duration": 6,
    "start_time": "2023-06-21T05:36:06.348Z"
   },
   {
    "duration": 26,
    "start_time": "2023-06-21T05:37:18.078Z"
   },
   {
    "duration": 41,
    "start_time": "2023-06-21T05:38:21.302Z"
   },
   {
    "duration": 53,
    "start_time": "2023-06-21T05:38:36.221Z"
   },
   {
    "duration": 11,
    "start_time": "2023-06-21T05:38:51.726Z"
   },
   {
    "duration": 11,
    "start_time": "2023-06-21T05:38:58.773Z"
   },
   {
    "duration": 10,
    "start_time": "2023-06-21T05:39:19.918Z"
   },
   {
    "duration": 14,
    "start_time": "2023-06-21T05:39:26.396Z"
   },
   {
    "duration": 12,
    "start_time": "2023-06-21T05:39:31.080Z"
   },
   {
    "duration": 45,
    "start_time": "2023-06-21T05:42:02.255Z"
   },
   {
    "duration": 5,
    "start_time": "2023-06-21T05:45:57.003Z"
   },
   {
    "duration": 9,
    "start_time": "2023-06-21T05:45:59.867Z"
   },
   {
    "duration": 927,
    "start_time": "2023-06-21T05:46:00.322Z"
   },
   {
    "duration": 2,
    "start_time": "2023-06-21T05:46:04.266Z"
   },
   {
    "duration": 4,
    "start_time": "2023-06-21T05:46:04.794Z"
   },
   {
    "duration": 6,
    "start_time": "2023-06-21T05:46:05.389Z"
   },
   {
    "duration": 5,
    "start_time": "2023-06-21T05:46:06.002Z"
   },
   {
    "duration": 165,
    "start_time": "2023-06-21T05:46:06.826Z"
   },
   {
    "duration": 3,
    "start_time": "2023-06-21T05:46:48.139Z"
   },
   {
    "duration": 50,
    "start_time": "2023-06-21T05:46:48.487Z"
   },
   {
    "duration": 3,
    "start_time": "2023-06-21T05:46:48.643Z"
   },
   {
    "duration": 6,
    "start_time": "2023-06-21T05:46:48.811Z"
   },
   {
    "duration": 9,
    "start_time": "2023-06-21T05:46:49.299Z"
   },
   {
    "duration": 10,
    "start_time": "2023-06-21T05:46:49.459Z"
   },
   {
    "duration": 101,
    "start_time": "2023-06-21T05:46:49.643Z"
   },
   {
    "duration": 235,
    "start_time": "2023-06-21T05:46:49.843Z"
   },
   {
    "duration": 7,
    "start_time": "2023-06-21T05:46:50.450Z"
   },
   {
    "duration": 204,
    "start_time": "2023-06-21T05:46:50.763Z"
   },
   {
    "duration": 211,
    "start_time": "2023-06-21T05:46:51.243Z"
   },
   {
    "duration": 200,
    "start_time": "2023-06-21T05:46:51.724Z"
   },
   {
    "duration": 257,
    "start_time": "2023-06-21T05:46:52.530Z"
   },
   {
    "duration": 8,
    "start_time": "2023-06-21T05:46:53.482Z"
   },
   {
    "duration": 18,
    "start_time": "2023-06-21T05:46:54.210Z"
   },
   {
    "duration": 6,
    "start_time": "2023-06-21T05:46:58.170Z"
   },
   {
    "duration": 9,
    "start_time": "2023-06-21T05:46:58.594Z"
   },
   {
    "duration": 879,
    "start_time": "2023-06-21T05:46:59.674Z"
   },
   {
    "duration": 3,
    "start_time": "2023-06-21T05:47:08.667Z"
   },
   {
    "duration": 4,
    "start_time": "2023-06-21T05:47:09.123Z"
   },
   {
    "duration": 6,
    "start_time": "2023-06-21T05:47:09.443Z"
   },
   {
    "duration": 6,
    "start_time": "2023-06-21T05:47:09.779Z"
   },
   {
    "duration": 71,
    "start_time": "2023-06-21T05:47:10.507Z"
   },
   {
    "duration": 3,
    "start_time": "2023-06-21T05:47:42.133Z"
   },
   {
    "duration": 48,
    "start_time": "2023-06-21T05:47:42.811Z"
   },
   {
    "duration": 10,
    "start_time": "2023-06-21T05:47:43.078Z"
   },
   {
    "duration": 7,
    "start_time": "2023-06-21T05:47:43.405Z"
   },
   {
    "duration": 6,
    "start_time": "2023-06-21T05:47:46.659Z"
   },
   {
    "duration": 10,
    "start_time": "2023-06-21T05:47:47.667Z"
   },
   {
    "duration": 18,
    "start_time": "2023-06-21T05:47:47.971Z"
   },
   {
    "duration": 100,
    "start_time": "2023-06-21T05:47:48.291Z"
   },
   {
    "duration": 230,
    "start_time": "2023-06-21T05:47:48.650Z"
   },
   {
    "duration": 7,
    "start_time": "2023-06-21T05:47:49.331Z"
   },
   {
    "duration": 208,
    "start_time": "2023-06-21T05:47:49.651Z"
   },
   {
    "duration": 201,
    "start_time": "2023-06-21T05:47:50.315Z"
   },
   {
    "duration": 213,
    "start_time": "2023-06-21T05:47:51.035Z"
   },
   {
    "duration": 149,
    "start_time": "2023-06-21T05:47:51.811Z"
   },
   {
    "duration": 5,
    "start_time": "2023-06-21T05:47:52.531Z"
   },
   {
    "duration": 18,
    "start_time": "2023-06-21T05:47:54.107Z"
   },
   {
    "duration": 107,
    "start_time": "2023-06-21T05:49:02.268Z"
   },
   {
    "duration": 4,
    "start_time": "2023-06-21T05:49:09.572Z"
   },
   {
    "duration": 57,
    "start_time": "2023-06-21T05:49:09.901Z"
   },
   {
    "duration": 5,
    "start_time": "2023-06-21T05:49:10.061Z"
   },
   {
    "duration": 8,
    "start_time": "2023-06-21T05:49:10.220Z"
   },
   {
    "duration": 11,
    "start_time": "2023-06-21T05:49:10.684Z"
   },
   {
    "duration": 12,
    "start_time": "2023-06-21T05:49:11.004Z"
   },
   {
    "duration": 104,
    "start_time": "2023-06-21T05:49:11.156Z"
   },
   {
    "duration": 325,
    "start_time": "2023-06-21T05:49:11.316Z"
   },
   {
    "duration": 8,
    "start_time": "2023-06-21T05:49:11.644Z"
   },
   {
    "duration": 198,
    "start_time": "2023-06-21T05:49:11.804Z"
   },
   {
    "duration": 188,
    "start_time": "2023-06-21T05:49:12.108Z"
   },
   {
    "duration": 182,
    "start_time": "2023-06-21T05:49:12.452Z"
   },
   {
    "duration": 145,
    "start_time": "2023-06-21T05:49:12.796Z"
   },
   {
    "duration": 5,
    "start_time": "2023-06-21T05:49:13.308Z"
   },
   {
    "duration": 18,
    "start_time": "2023-06-21T05:49:13.636Z"
   },
   {
    "duration": 6,
    "start_time": "2023-06-21T05:49:13.796Z"
   },
   {
    "duration": 9,
    "start_time": "2023-06-21T05:49:13.972Z"
   },
   {
    "duration": 841,
    "start_time": "2023-06-21T05:49:14.148Z"
   },
   {
    "duration": 5,
    "start_time": "2023-06-21T05:49:23.093Z"
   },
   {
    "duration": 186226,
    "start_time": "2023-06-21T05:50:02.661Z"
   },
   {
    "duration": 4,
    "start_time": "2023-06-21T05:56:01.690Z"
   },
   {
    "duration": 55,
    "start_time": "2023-06-21T05:56:02.186Z"
   },
   {
    "duration": 5,
    "start_time": "2023-06-21T05:56:02.489Z"
   },
   {
    "duration": 6,
    "start_time": "2023-06-21T05:56:02.713Z"
   },
   {
    "duration": 10,
    "start_time": "2023-06-21T05:56:03.257Z"
   },
   {
    "duration": 13,
    "start_time": "2023-06-21T05:56:03.617Z"
   },
   {
    "duration": 113,
    "start_time": "2023-06-21T05:56:03.777Z"
   },
   {
    "duration": 225,
    "start_time": "2023-06-21T05:56:03.946Z"
   },
   {
    "duration": 8,
    "start_time": "2023-06-21T05:56:04.296Z"
   },
   {
    "duration": 331,
    "start_time": "2023-06-21T05:56:04.473Z"
   },
   {
    "duration": 211,
    "start_time": "2023-06-21T05:56:04.833Z"
   },
   {
    "duration": 198,
    "start_time": "2023-06-21T05:56:05.280Z"
   },
   {
    "duration": 145,
    "start_time": "2023-06-21T05:56:05.634Z"
   },
   {
    "duration": 6,
    "start_time": "2023-06-21T05:56:06.233Z"
   },
   {
    "duration": 18,
    "start_time": "2023-06-21T05:56:07.049Z"
   },
   {
    "duration": 6,
    "start_time": "2023-06-21T05:56:07.353Z"
   },
   {
    "duration": 10,
    "start_time": "2023-06-21T05:56:07.585Z"
   },
   {
    "duration": 814,
    "start_time": "2023-06-21T05:56:08.066Z"
   },
   {
    "duration": 3,
    "start_time": "2023-06-21T05:56:08.882Z"
   },
   {
    "duration": 4,
    "start_time": "2023-06-21T05:56:12.672Z"
   },
   {
    "duration": 5,
    "start_time": "2023-06-21T05:56:12.904Z"
   },
   {
    "duration": 6,
    "start_time": "2023-06-21T05:56:13.138Z"
   },
   {
    "duration": 5,
    "start_time": "2023-06-21T05:56:13.385Z"
   },
   {
    "duration": 210,
    "start_time": "2023-06-21T05:56:13.865Z"
   },
   {
    "duration": 204954,
    "start_time": "2023-06-21T05:56:15.241Z"
   },
   {
    "duration": 6,
    "start_time": "2023-06-21T06:39:09.689Z"
   },
   {
    "duration": 54,
    "start_time": "2023-06-21T06:39:10.201Z"
   },
   {
    "duration": 6,
    "start_time": "2023-06-21T06:39:10.462Z"
   },
   {
    "duration": 12,
    "start_time": "2023-06-21T06:39:10.803Z"
   },
   {
    "duration": 13,
    "start_time": "2023-06-21T06:39:11.610Z"
   },
   {
    "duration": 17,
    "start_time": "2023-06-21T06:39:12.327Z"
   },
   {
    "duration": 139,
    "start_time": "2023-06-21T06:39:12.802Z"
   },
   {
    "duration": 296,
    "start_time": "2023-06-21T06:39:13.575Z"
   },
   {
    "duration": 11,
    "start_time": "2023-06-21T06:39:15.414Z"
   },
   {
    "duration": 293,
    "start_time": "2023-06-21T06:39:16.031Z"
   },
   {
    "duration": 219,
    "start_time": "2023-06-21T06:39:25.518Z"
   },
   {
    "duration": 344,
    "start_time": "2023-06-21T06:39:26.766Z"
   },
   {
    "duration": 152,
    "start_time": "2023-06-21T06:39:27.631Z"
   },
   {
    "duration": 6,
    "start_time": "2023-06-21T06:39:28.823Z"
   },
   {
    "duration": 23,
    "start_time": "2023-06-21T06:39:29.271Z"
   },
   {
    "duration": 8,
    "start_time": "2023-06-21T06:39:29.566Z"
   },
   {
    "duration": 9,
    "start_time": "2023-06-21T06:39:29.909Z"
   },
   {
    "duration": 937,
    "start_time": "2023-06-21T06:39:30.350Z"
   },
   {
    "duration": 5,
    "start_time": "2023-06-21T06:39:32.135Z"
   },
   {
    "duration": 2,
    "start_time": "2023-06-21T06:39:33.711Z"
   },
   {
    "duration": 4,
    "start_time": "2023-06-21T06:39:34.063Z"
   },
   {
    "duration": 5,
    "start_time": "2023-06-21T06:39:34.410Z"
   },
   {
    "duration": 7,
    "start_time": "2023-06-21T06:39:34.779Z"
   },
   {
    "duration": 176,
    "start_time": "2023-06-21T06:39:35.502Z"
   },
   {
    "duration": 86079,
    "start_time": "2023-06-21T06:39:37.501Z"
   },
   {
    "duration": 4,
    "start_time": "2023-06-21T06:43:09.101Z"
   },
   {
    "duration": 66,
    "start_time": "2023-06-21T06:43:09.402Z"
   },
   {
    "duration": 6,
    "start_time": "2023-06-21T06:43:09.539Z"
   },
   {
    "duration": 10,
    "start_time": "2023-06-21T06:43:09.697Z"
   },
   {
    "duration": 12,
    "start_time": "2023-06-21T06:43:10.169Z"
   },
   {
    "duration": 17,
    "start_time": "2023-06-21T06:43:10.511Z"
   },
   {
    "duration": 155,
    "start_time": "2023-06-21T06:43:10.658Z"
   },
   {
    "duration": 297,
    "start_time": "2023-06-21T06:43:10.825Z"
   },
   {
    "duration": 10,
    "start_time": "2023-06-21T06:43:11.154Z"
   },
   {
    "duration": 285,
    "start_time": "2023-06-21T06:43:11.330Z"
   },
   {
    "duration": 313,
    "start_time": "2023-06-21T06:43:11.753Z"
   },
   {
    "duration": 273,
    "start_time": "2023-06-21T06:43:12.561Z"
   },
   {
    "duration": 187,
    "start_time": "2023-06-21T06:43:13.017Z"
   },
   {
    "duration": 9,
    "start_time": "2023-06-21T06:43:13.993Z"
   },
   {
    "duration": 26,
    "start_time": "2023-06-21T06:43:14.507Z"
   },
   {
    "duration": 7,
    "start_time": "2023-06-21T06:43:14.769Z"
   },
   {
    "duration": 15,
    "start_time": "2023-06-21T06:43:15.002Z"
   },
   {
    "duration": 1124,
    "start_time": "2023-06-21T06:43:15.205Z"
   },
   {
    "duration": 5,
    "start_time": "2023-06-21T06:43:16.335Z"
   },
   {
    "duration": 3,
    "start_time": "2023-06-21T06:43:17.105Z"
   },
   {
    "duration": 5,
    "start_time": "2023-06-21T06:43:17.373Z"
   },
   {
    "duration": 7,
    "start_time": "2023-06-21T06:43:17.510Z"
   },
   {
    "duration": 8,
    "start_time": "2023-06-21T06:43:17.701Z"
   },
   {
    "duration": 207,
    "start_time": "2023-06-21T06:43:17.874Z"
   },
   {
    "duration": 6273,
    "start_time": "2023-06-21T06:43:18.522Z"
   },
   {
    "duration": 13,
    "start_time": "2023-06-21T06:44:18.850Z"
   },
   {
    "duration": 12,
    "start_time": "2023-06-21T06:44:25.947Z"
   },
   {
    "duration": 4,
    "start_time": "2023-06-21T06:44:58.348Z"
   },
   {
    "duration": 6,
    "start_time": "2023-06-21T06:45:03.317Z"
   },
   {
    "duration": 61,
    "start_time": "2023-06-21T06:45:04.068Z"
   },
   {
    "duration": 5,
    "start_time": "2023-06-21T06:45:04.332Z"
   },
   {
    "duration": 11,
    "start_time": "2023-06-21T06:45:04.601Z"
   },
   {
    "duration": 12,
    "start_time": "2023-06-21T06:45:05.147Z"
   },
   {
    "duration": 24,
    "start_time": "2023-06-21T06:45:05.509Z"
   },
   {
    "duration": 149,
    "start_time": "2023-06-21T06:45:05.651Z"
   },
   {
    "duration": 317,
    "start_time": "2023-06-21T06:45:05.835Z"
   },
   {
    "duration": 30,
    "start_time": "2023-06-21T06:45:06.154Z"
   },
   {
    "duration": 306,
    "start_time": "2023-06-21T06:45:06.324Z"
   },
   {
    "duration": 315,
    "start_time": "2023-06-21T06:45:06.641Z"
   },
   {
    "duration": 288,
    "start_time": "2023-06-21T06:45:07.007Z"
   },
   {
    "duration": 217,
    "start_time": "2023-06-21T06:45:07.417Z"
   },
   {
    "duration": 7,
    "start_time": "2023-06-21T06:45:08.029Z"
   },
   {
    "duration": 21,
    "start_time": "2023-06-21T06:45:08.563Z"
   },
   {
    "duration": 7,
    "start_time": "2023-06-21T06:45:08.868Z"
   },
   {
    "duration": 13,
    "start_time": "2023-06-21T06:45:09.243Z"
   },
   {
    "duration": 992,
    "start_time": "2023-06-21T06:45:09.723Z"
   },
   {
    "duration": 14,
    "start_time": "2023-06-21T06:45:10.771Z"
   },
   {
    "duration": 5,
    "start_time": "2023-06-21T06:45:15.015Z"
   },
   {
    "duration": 5,
    "start_time": "2023-06-21T06:45:15.532Z"
   },
   {
    "duration": 6,
    "start_time": "2023-06-21T06:45:16.020Z"
   },
   {
    "duration": 10,
    "start_time": "2023-06-21T06:45:16.516Z"
   },
   {
    "duration": 258,
    "start_time": "2023-06-21T06:45:17.156Z"
   },
   {
    "duration": 336775,
    "start_time": "2023-06-21T06:45:18.205Z"
   },
   {
    "duration": 4,
    "start_time": "2023-06-21T06:51:44.714Z"
   },
   {
    "duration": 3,
    "start_time": "2023-06-21T06:52:07.833Z"
   },
   {
    "duration": 6,
    "start_time": "2023-06-21T06:52:08.604Z"
   },
   {
    "duration": 161,
    "start_time": "2023-06-21T06:52:11.314Z"
   },
   {
    "duration": 14,
    "start_time": "2023-06-21T12:24:14.901Z"
   },
   {
    "duration": 3201,
    "start_time": "2023-06-21T12:24:21.621Z"
   },
   {
    "duration": 344,
    "start_time": "2023-06-21T12:24:24.825Z"
   },
   {
    "duration": 12,
    "start_time": "2023-06-21T12:24:25.174Z"
   },
   {
    "duration": 20,
    "start_time": "2023-06-21T12:24:25.189Z"
   },
   {
    "duration": 13,
    "start_time": "2023-06-21T12:24:25.210Z"
   },
   {
    "duration": 18,
    "start_time": "2023-06-21T12:24:25.225Z"
   },
   {
    "duration": 150,
    "start_time": "2023-06-21T12:24:25.245Z"
   },
   {
    "duration": 301,
    "start_time": "2023-06-21T12:24:25.397Z"
   },
   {
    "duration": 9,
    "start_time": "2023-06-21T12:24:25.700Z"
   },
   {
    "duration": 468,
    "start_time": "2023-06-21T12:24:25.712Z"
   },
   {
    "duration": 265,
    "start_time": "2023-06-21T12:24:26.185Z"
   },
   {
    "duration": 252,
    "start_time": "2023-06-21T12:24:26.453Z"
   },
   {
    "duration": 213,
    "start_time": "2023-06-21T12:24:26.707Z"
   },
   {
    "duration": 6,
    "start_time": "2023-06-21T12:24:29.536Z"
   },
   {
    "duration": 29,
    "start_time": "2023-06-21T12:25:32.021Z"
   },
   {
    "duration": 40,
    "start_time": "2023-06-21T12:25:38.618Z"
   },
   {
    "duration": 57,
    "start_time": "2023-06-21T12:25:43.258Z"
   },
   {
    "duration": 4,
    "start_time": "2023-06-21T12:27:14.420Z"
   },
   {
    "duration": 62,
    "start_time": "2023-06-21T12:27:14.809Z"
   },
   {
    "duration": 5,
    "start_time": "2023-06-21T12:27:15.093Z"
   },
   {
    "duration": 8,
    "start_time": "2023-06-21T12:27:15.354Z"
   },
   {
    "duration": 17,
    "start_time": "2023-06-21T12:27:16.458Z"
   },
   {
    "duration": 14,
    "start_time": "2023-06-21T12:27:17.120Z"
   },
   {
    "duration": 129,
    "start_time": "2023-06-21T12:27:17.595Z"
   },
   {
    "duration": 271,
    "start_time": "2023-06-21T12:27:18.250Z"
   },
   {
    "duration": 1975,
    "start_time": "2023-06-23T11:23:39.075Z"
   },
   {
    "duration": 147,
    "start_time": "2023-06-23T11:23:41.052Z"
   },
   {
    "duration": 4,
    "start_time": "2023-06-23T11:23:41.202Z"
   },
   {
    "duration": 57,
    "start_time": "2023-06-23T11:23:41.208Z"
   },
   {
    "duration": 17,
    "start_time": "2023-06-23T11:23:41.266Z"
   },
   {
    "duration": 13,
    "start_time": "2023-06-23T11:23:41.285Z"
   },
   {
    "duration": 146,
    "start_time": "2023-06-23T11:23:41.302Z"
   },
   {
    "duration": 242,
    "start_time": "2023-06-23T11:23:41.450Z"
   },
   {
    "duration": 18,
    "start_time": "2023-06-23T11:23:41.694Z"
   },
   {
    "duration": 396,
    "start_time": "2023-06-23T11:23:41.796Z"
   },
   {
    "duration": 247,
    "start_time": "2023-06-23T11:23:42.199Z"
   },
   {
    "duration": 217,
    "start_time": "2023-06-23T11:23:42.548Z"
   },
   {
    "duration": 164,
    "start_time": "2023-06-23T11:23:42.926Z"
   },
   {
    "duration": 5,
    "start_time": "2023-06-23T11:23:43.683Z"
   },
   {
    "duration": 4,
    "start_time": "2023-06-23T11:23:44.454Z"
   },
   {
    "duration": 50,
    "start_time": "2023-06-23T11:23:45.330Z"
   },
   {
    "duration": 17,
    "start_time": "2023-06-23T11:23:48.555Z"
   },
   {
    "duration": 4,
    "start_time": "2023-06-23T11:23:48.781Z"
   },
   {
    "duration": 9,
    "start_time": "2023-06-23T11:23:48.981Z"
   },
   {
    "duration": 922,
    "start_time": "2023-06-23T11:23:49.156Z"
   },
   {
    "duration": 3,
    "start_time": "2023-06-23T11:23:50.080Z"
   },
   {
    "duration": 3,
    "start_time": "2023-06-23T11:23:51.068Z"
   },
   {
    "duration": 4,
    "start_time": "2023-06-23T11:23:51.372Z"
   },
   {
    "duration": 4,
    "start_time": "2023-06-23T11:23:51.664Z"
   },
   {
    "duration": 4,
    "start_time": "2023-06-23T11:23:51.981Z"
   },
   {
    "duration": 163,
    "start_time": "2023-06-23T11:25:13.385Z"
   },
   {
    "duration": 802,
    "start_time": "2023-06-23T11:25:28.332Z"
   },
   {
    "duration": 50090,
    "start_time": "2023-06-23T11:25:36.043Z"
   },
   {
    "duration": 373,
    "start_time": "2023-06-23T11:26:51.660Z"
   },
   {
    "duration": 4,
    "start_time": "2023-06-23T11:28:05.341Z"
   },
   {
    "duration": 68,
    "start_time": "2023-06-23T11:28:05.676Z"
   },
   {
    "duration": 4,
    "start_time": "2023-06-23T11:28:05.857Z"
   },
   {
    "duration": 8,
    "start_time": "2023-06-23T11:28:06.045Z"
   },
   {
    "duration": 9,
    "start_time": "2023-06-23T11:28:06.679Z"
   },
   {
    "duration": 10,
    "start_time": "2023-06-23T11:28:07.051Z"
   },
   {
    "duration": 101,
    "start_time": "2023-06-23T11:28:07.178Z"
   },
   {
    "duration": 223,
    "start_time": "2023-06-23T11:28:07.341Z"
   },
   {
    "duration": 6,
    "start_time": "2023-06-23T11:28:07.681Z"
   },
   {
    "duration": 210,
    "start_time": "2023-06-23T11:28:07.861Z"
   },
   {
    "duration": 213,
    "start_time": "2023-06-23T11:28:08.165Z"
   },
   {
    "duration": 200,
    "start_time": "2023-06-23T11:28:08.498Z"
   },
   {
    "duration": 161,
    "start_time": "2023-06-23T11:28:08.937Z"
   },
   {
    "duration": 5,
    "start_time": "2023-06-23T11:28:09.653Z"
   },
   {
    "duration": 6,
    "start_time": "2023-06-23T11:28:10.497Z"
   },
   {
    "duration": 46,
    "start_time": "2023-06-23T11:28:10.741Z"
   },
   {
    "duration": 16,
    "start_time": "2023-06-23T11:28:10.949Z"
   },
   {
    "duration": 8,
    "start_time": "2023-06-23T11:28:11.141Z"
   },
   {
    "duration": 8,
    "start_time": "2023-06-23T11:28:11.369Z"
   },
   {
    "duration": 804,
    "start_time": "2023-06-23T11:28:11.538Z"
   },
   {
    "duration": 3,
    "start_time": "2023-06-23T11:28:12.343Z"
   },
   {
    "duration": 2,
    "start_time": "2023-06-23T11:28:12.533Z"
   },
   {
    "duration": 4,
    "start_time": "2023-06-23T11:28:12.741Z"
   },
   {
    "duration": 5,
    "start_time": "2023-06-23T11:28:12.953Z"
   },
   {
    "duration": 4,
    "start_time": "2023-06-23T11:28:13.177Z"
   },
   {
    "duration": 142,
    "start_time": "2023-06-23T11:28:17.473Z"
   },
   {
    "duration": 2887,
    "start_time": "2023-06-23T11:28:21.178Z"
   },
   {
    "duration": 29,
    "start_time": "2023-06-23T11:28:29.969Z"
   },
   {
    "duration": 10,
    "start_time": "2023-06-23T11:28:44.786Z"
   },
   {
    "duration": 21,
    "start_time": "2023-06-23T11:29:10.057Z"
   },
   {
    "duration": 10,
    "start_time": "2023-06-23T11:31:25.647Z"
   },
   {
    "duration": 22,
    "start_time": "2023-06-23T11:35:24.263Z"
   },
   {
    "duration": 10,
    "start_time": "2023-06-23T11:35:37.672Z"
   },
   {
    "duration": 10,
    "start_time": "2023-06-23T11:37:40.211Z"
   },
   {
    "duration": 1376,
    "start_time": "2023-06-23T11:38:16.151Z"
   },
   {
    "duration": 1187,
    "start_time": "2023-06-23T11:38:25.047Z"
   },
   {
    "duration": 1186,
    "start_time": "2023-06-23T11:38:28.836Z"
   },
   {
    "duration": 2721,
    "start_time": "2023-06-23T11:38:34.071Z"
   },
   {
    "duration": 27,
    "start_time": "2023-06-23T11:38:40.059Z"
   },
   {
    "duration": 9,
    "start_time": "2023-06-23T11:52:49.036Z"
   },
   {
    "duration": 3,
    "start_time": "2023-06-23T11:52:59.436Z"
   },
   {
    "duration": 3,
    "start_time": "2023-06-23T11:53:05.228Z"
   },
   {
    "duration": 27,
    "start_time": "2023-06-23T11:53:40.558Z"
   },
   {
    "duration": 577,
    "start_time": "2023-06-23T11:53:44.757Z"
   },
   {
    "duration": 330,
    "start_time": "2023-06-23T11:53:50.236Z"
   }
  ],
  "kernelspec": {
   "display_name": "Python 3 (ipykernel)",
   "language": "python",
   "name": "python3"
  },
  "language_info": {
   "codemirror_mode": {
    "name": "ipython",
    "version": 3
   },
   "file_extension": ".py",
   "mimetype": "text/x-python",
   "name": "python",
   "nbconvert_exporter": "python",
   "pygments_lexer": "ipython3",
   "version": "3.10.9"
  },
  "toc": {
   "base_numbering": 1,
   "nav_menu": {},
   "number_sections": true,
   "sideBar": true,
   "skip_h1_title": true,
   "title_cell": "Содержание",
   "title_sidebar": "Contents",
   "toc_cell": true,
   "toc_position": {
    "height": "calc(100% - 180px)",
    "left": "10px",
    "top": "150px",
    "width": "165px"
   },
   "toc_section_display": true,
   "toc_window_display": true
  }
 },
 "nbformat": 4,
 "nbformat_minor": 2
}
